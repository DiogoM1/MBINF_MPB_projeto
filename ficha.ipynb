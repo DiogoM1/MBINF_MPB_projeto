{
 "cells": [
  {
   "cell_type": "markdown",
   "metadata": {
    "id": "C26ObGfATEe3"
   },
   "source": [
    "# Ficha de Trabalho 1"
   ]
  },
  {
   "cell_type": "markdown",
   "metadata": {
    "id": "riDihK9aYqwO"
   },
   "source": [
    "### Em batch"
   ]
  },
  {
   "cell_type": "markdown",
   "metadata": {
    "id": "hkPStNcU8PBl"
   },
   "source": [
    "$$\\frac{d[X]}{dt} = (\\mu_1 + \\mu_2 + \\mu_3) * [X]$$\n",
    "\n",
    "$$\\frac{d[S]}{dt} = -k_2 \\ \\mu_2 \\ [X] $$\n",
    "\n",
    "$$\\frac{d[G]}{dt} = -k_1 \\ \\mu_1 \\ [X]$$\n",
    "\n",
    "$$\\frac{d[E]}{dt} = (k_3 \\ \\mu_2 -k_4 \\ \\mu_3) * [X]$$\n",
    "\n",
    "$$\\frac{d[V]}{dt} = 0$$"
   ]
  },
  {
   "cell_type": "markdown",
   "metadata": {
    "id": "kCshkr_r9MDV"
   },
   "source": [
    "### Em fed-batch"
   ]
  },
  {
   "cell_type": "markdown",
   "metadata": {
    "id": "-9P_mFrJ9SuK"
   },
   "source": [
    "$$\\frac{d[X]}{dt} = (\\mu_1 + \\mu_2 + \\mu_3) * [X] -\\frac{Fe}{V}[X]$$\n",
    "\n",
    "$$\\frac{d[S]}{dt} = -k_2 \\ \\mu_3 \\ [X] +\\frac{Fe}{V}[S_e] -\\frac{Fe}{V}[S]$$\n",
    "\n",
    "$$\\frac{d[G]}{dt} = -k_1 \\ \\mu_1 \\ [X] -\\frac{Fe}{V}[G]$$\n",
    "\n",
    "$$\\frac{d[E]}{dt} = (k_3 \\ \\mu_2 -k_4 \\ \\mu_3) * [X] -\\frac{Fe}{V}[E]$$\n",
    "\n",
    "$$\\frac{d[V]}{dt} = Fe$$"
   ]
  },
  {
   "cell_type": "code",
   "execution_count": 1,
   "metadata": {
    "id": "Lx5uCkcBTEfD",
    "pycharm": {
     "name": "#%%\n"
    }
   },
   "outputs": [],
   "source": [
    "#imports\n",
    "import pandas as pd\n",
    "import numpy as np\n",
    "import matplotlib.pyplot as plt\n",
    "from scipy.spatial import distance as dst\n",
    "from scipy.integrate import ode\n",
    "from scipy.optimize import basinhopping\n",
    "from scipy.optimize import fsolve\n",
    "from sympy import symbols, Symbol\n",
    "import numdifftools as ndt"
   ]
  },
  {
   "cell_type": "markdown",
   "metadata": {
    "id": "0rbsgC5LTEfF"
   },
   "source": [
    "Criar o modelo para a bactéria BL21"
   ]
  },
  {
   "cell_type": "code",
   "execution_count": 5,
   "metadata": {
    "colab": {
     "base_uri": "https://localhost:8080/",
     "height": 132
    },
    "id": "t5eDuCgaTEfF",
    "outputId": "58b2d98f-aee3-451e-c91f-1d48def3558b",
    "pycharm": {
     "name": "#%%\n"
    }
   },
   "outputs": [],
   "source": [
    "# Model bl21\n",
    "def bl21(t, Y, k, miu_max, ks, fb=(), qs=()):\n",
    "\t\"\"\"\n",
    "\tThis will be the model for the strain BL21\n",
    "\n",
    "\t:param ks:\n",
    "\t:param miu_max:\n",
    "\t:param fb_params:\n",
    "\t:param t: time; This argument should not be altered\n",
    "\t:param Y: initial conditions; array-like data structure (list, tuple, numpy array)\n",
    "\t:param K_params: Estimated K parameters; array-like data structure (list, tuple, numpy array)\n",
    "\t:param fb_params: Optional set of  parameters that set the model into FeedBatch mode if provided; array-like data structure (list, tuple, numpy array)\n",
    "\t:return: K * phi - (D (F/V) * variables) + zeros; note that numpy.dot() is the standard for matrices multiplication\n",
    "\n",
    "\t\"\"\"\n",
    "\t# Calculate per reaction miu\n",
    "\tm = [Y[1], Y[1], Y[2]]\n",
    "\tmiu = [miu_max[i]*(m[i]/(ks[i]+m[i])) for i in range(3)]\n",
    "\n",
    "\t# batch (basic) logic\n",
    "\tdef batch():\n",
    "\t\tdXdt = miu[0]*Y[0] + miu[1]*Y[0] + miu[2]*Y[0]\n",
    "\t\tdSdt = (-k[0])*miu[0]*Y[0] - k[1]*miu[1]*Y[0]\n",
    "\t\tdAdt = k[2]*miu[1]*Y[0] - k[3]*miu[2]*Y[0]\n",
    "\t\tdPdt = k[10]*miu[0]*Y[0]\n",
    "\t\tdVdt = 0\n",
    "\t\treturn [dXdt, dSdt, dAdt, dPdt, dVdt]\n",
    "\n",
    "  # decorator invocation for extra modes\n",
    "\tdef fedbatch(func):\n",
    "\t\tD = fb[0]/Y[4] # Fe/V\n",
    "\t\tdilution = [-D*Y[0], D*fb[1] -D*Y[1], -D*Y[2], -D*Y[3], fb[0]]\n",
    "\t\treturn np.add(func,dilution)\n",
    "\n",
    "\tdef quimiostato(func):\n",
    "\t\tD = qs[0]/Y[4] # Fin/V\n",
    "\t\tdilution = [-D*Y[0], D*qs[1]-D*Y[1], -D*Y[2], -D*Y[3], 0]\n",
    "\t\treturn np.add(func,dilution)\n",
    "\n",
    "\tif qs:\n",
    "\t\treturn quimiostato(batch())\n",
    "\telif fb:\n",
    "\t\treturn fedbatch(batch())\n",
    "\telse:\n",
    "\t\treturn batch()"
   ]
  },
  {
   "cell_type": "markdown",
   "metadata": {
    "id": "G0-ExVWRTEfH"
   },
   "source": [
    "## a)-b)"
   ]
  },
  {
   "cell_type": "markdown",
   "metadata": {
    "id": "EIqWOE8W8_hv"
   },
   "source": [
    "$$\\frac{d[X]}{dt} = (\\mu_1 + \\mu_2 + \\mu_3) * [X]$$\n",
    "\n",
    "$$\\frac{d[S]}{dt} = - (k_1 \\ \\mu_1 + k_2 \\ \\mu_2) \\ [X]$$\n",
    "\n",
    "$$\\frac{d[A]}{dt} = (k_3 \\ \\mu_2 - k_4 \\ \\mu_3 ) \\ [X]$$\n",
    "\n",
    "$$\\frac{d[P]}{dt} = k_{11} \\ \\mu_1 \\ [X]$$\n",
    "\n",
    "$$\\frac{d[V]}{dt} = 0$$"
   ]
  },
  {
   "cell_type": "code",
   "execution_count": 6,
   "metadata": {
    "colab": {
     "base_uri": "https://localhost:8080/",
     "height": 295
    },
    "id": "M3Fx49g1TEfI",
    "outputId": "191b91fc-0fc8-4068-86f3-f0df5dc44e42",
    "pycharm": {
     "name": "#%%\n"
    }
   },
   "outputs": [
    {
     "data": {
      "image/png": "[encoded data removed]",
      "text/plain": [
       "<Figure size 432x288 with 1 Axes>"
      ]
     },
     "metadata": {
      "needs_background": "light"
     },
     "output_type": "display_data"
    }
   ],
   "source": [
    "# Initial conditions\n",
    "y0 = [3, 8, 0, 0, 4]\n",
    "\n",
    "# Parameters (Include all parameters required and make sure the function bl21 can unpack them all)\n",
    "params = [3.164, 25.22, 10.90, 6.382, 1.074, 11.89, 6.098, 1.283, 19.01, 6.576, 10.0]\n",
    "miu_max = [0.3, 0.6, 0.2]\n",
    "ks = [0.2, 0.2, 0.5]\n",
    "fb_params = []\n",
    "\n",
    "# Initial time\n",
    "t0 = 0\n",
    "\n",
    "# ode\n",
    "'''\n",
    "consider scipy.integrate.ode method, with the integrator lsoda and method bdf\n",
    "you should apply the initial values and parameters\n",
    "'''\n",
    "\n",
    "r = ode(bl21).set_integrator('lsoda', method='bdf')\n",
    "r.set_initial_value(y0, t0).set_f_params(params, miu_max, ks)\n",
    "\n",
    "# Final time and step\n",
    "t1 = 3\n",
    "dt = 0.01\n",
    "\n",
    "#Consider creating some storing variables (T and Y)\n",
    "T, Y = [], []\n",
    "\n",
    "# Solve ode for the time step\n",
    "'''\n",
    "see scipy docs on how to resolve the ode for the time steps\n",
    "append the results to the storing variables\n",
    "'''\n",
    "\n",
    "while r.successful() and r.t < t1:\n",
    "\tT.append(r.t+dt), Y.append(r.integrate(r.t+dt))\n",
    "\n",
    "# Plotting\n",
    "T = np.array([0]+T)\n",
    "Y = np.array([y0]+Y)\n",
    "labels = ['Biomassa', 'Glucose', 'Acetato', 'Proteína Recombinada', 'Volume']\n",
    "\n",
    "# Consider using matplotlib for plotting.\n",
    "fig, ax = plt.subplots()\n",
    "ax.plot(T, Y)\n",
    "ax.legend(labels)\n",
    "ax.set(xlabel='time (h)', ylabel='voltage (mV)',title='About as simple as it gets, folks')\n",
    "ax.grid()\n",
    "plt.show()"
   ]
  },
  {
   "cell_type": "markdown",
   "metadata": {
    "id": "9Ul83STATEfL"
   },
   "source": [
    "## c)-d)"
   ]
  },
  {
   "cell_type": "markdown",
   "metadata": {
    "id": "0MLCc5T19hmZ"
   },
   "source": [
    "$$\\frac{d[X]}{dt} = (\\mu_1 + \\mu_2 + \\mu_3) * [X] - \\frac{Fe}{V}[X]$$\n",
    "\n",
    "$$\\frac{d[S]}{dt} = - (k_1 \\ \\mu_1 + k_2 \\ \\mu_2) \\ [X] + \\frac{Fe}{V}[S_e] - \\frac{Fe}{V}[S]$$\n",
    "\n",
    "$$\\frac{d[A]}{dt} = (k_3 \\ \\mu_2 - k_4 \\ \\mu_3 ) \\ [X] - \\frac{Fe}{V}[A]$$\n",
    "\n",
    "$$\\frac{d[P]}{dt} = k_{11} \\ \\mu_1 \\ [X] - \\frac{Fe}{V}[P]$$\n",
    "\n",
    "$$\\frac{d[V]}{dt} = Fe$$"
   ]
  },
  {
   "cell_type": "code",
   "execution_count": 7,
   "metadata": {
    "colab": {
     "base_uri": "https://localhost:8080/",
     "height": 295
    },
    "id": "TK_dqf60TEfM",
    "outputId": "2f0595a0-0e33-4463-8a1d-f839f827d37a",
    "pycharm": {
     "name": "#%%\n"
    }
   },
   "outputs": [
    {
     "data": {
      "image/png": "[encoded data removed]",
      "text/plain": [
       "<Figure size 432x288 with 1 Axes>"
      ]
     },
     "metadata": {
      "needs_background": "light"
     },
     "output_type": "display_data"
    }
   ],
   "source": [
    "# Initial conditions\n",
    "y0 = [2, 0, 0, 0, 3]\n",
    "\n",
    "# Parameters (Include all parameters required and make sure the function bl21 can unpack them all)\n",
    "params = [3.164, 25.22, 10.90, 6.382, 1.074, 11.89, 6.098, 1.283, 19.01, 6.576, 10.0]\n",
    "miu_max = [0.3, 0.6, 0.2]\n",
    "ks = [0.2, 0.2, 0.5]\n",
    "fb_params = [0.5, 300]\n",
    "\n",
    "# Initial time\n",
    "t0 = 0\n",
    "\n",
    "# ode\n",
    "'''\n",
    "consider scipy.integrate.ode method, with the integrator lsoda and method bdf\n",
    "you should apply the initial values and parameters\n",
    "'''\n",
    "\n",
    "r = ode(bl21).set_integrator('lsoda', method='bdf')\n",
    "r.set_initial_value(y0, t0).set_f_params(params, miu_max, ks, fb_params)\n",
    "\n",
    "# Final time and step\n",
    "t1 = 25\n",
    "dt = 0.01\n",
    "\n",
    "#Consider creating some storing variables (T and Y)\n",
    "T, Y = [], []\n",
    "\n",
    "# Solve ode for the time step\n",
    "'''\n",
    "see scipy docs on how to resolve the ode for the time steps\n",
    "append the results to the storing variables\n",
    "'''\n",
    "while r.successful() and r.t < t1:\n",
    "\tT.append(r.t+dt), Y.append(r.integrate(r.t+dt))\n",
    "\n",
    "# Plotting\n",
    "T = np.array([0]+T)\n",
    "Y = np.array([y0]+Y)\n",
    "labels = ['Biomassa', 'Glucose', 'Acetato', 'Proteína Recombinada', 'Volume']\n",
    "\n",
    "# Consider using matplotlib for plotting.\n",
    "fig, ax = plt.subplots()\n",
    "ax.plot(T, Y)\n",
    "ax.legend(labels)\n",
    "ax.set(xlabel='time (h)', ylabel='voltage (mV)',title='About as simple as it gets, folks')\n",
    "ax.grid()\n",
    "fig.savefig(\"bl21_fb_25h.png\", dpi=300)\n",
    "plt.show()"
   ]
  },
  {
   "cell_type": "markdown",
   "metadata": {
    "id": "PaJm1KEDTEfN"
   },
   "source": [
    "## e)"
   ]
  },
  {
   "cell_type": "markdown",
   "metadata": {
    "id": "nG6_NQghTEfN"
   },
   "source": [
    "Criar modelo para a bactéria JM109"
   ]
  },
  {
   "cell_type": "code",
   "execution_count": 8,
   "metadata": {
    "id": "mVO2eImYTEfO",
    "pycharm": {
     "name": "#%%\n"
    }
   },
   "outputs": [],
   "source": [
    "def jm109(t, Y, params):\n",
    "  \"\"\"\n",
    "\n",
    "  This will be the model for the strain JM109 which is similar to the BL21, but it should have slight modifications\n",
    "\n",
    "  :param t: time; This argument should not be altered\n",
    "  :param Y: initial conditions; array-like data structure (list, tuple, numpy array)\n",
    "  :param params: parameters; array-like data structure (list, tuple, numpy array) - NOTE THAT THESE ARGUMENT MUST\n",
    "  CONTAIN ONLY AND ONLY THOSE PARAMETERS TO BE ESTIMATED. The remain parameters should be hardcoded within the\n",
    "  function\n",
    "  :return: K * phi - (D * variables) + zeros; note that numpy.dot() is the standard for matrices multiplication\n",
    "\n",
    "  \"\"\"\n",
    "\t# operations mode\n",
    "\n",
    "  k = [params[0], 25.22, 10.90, 6.382, 1.074, 11.89, 6.098, 1.283, 19.01, 6.576, 10.0]\n",
    "  miu_max = [params[1], 0.6, 0.2]\n",
    "  ks = [params[2], 0.2, 0.5]\n",
    "  fb = [0.5, 300]\n",
    "\n",
    "  return bl21(t, Y, k, miu_max, ks, fb)"
   ]
  },
  {
   "cell_type": "markdown",
   "metadata": {
    "id": "C9qLf1fGTEfP"
   },
   "source": [
    "Criar função para estimação dos parâmetros"
   ]
  },
  {
   "cell_type": "code",
   "execution_count": 9,
   "metadata": {
    "id": "bXpct671TEfP",
    "pycharm": {
     "name": "#%%\n"
    }
   },
   "outputs": [],
   "source": [
    "def estimate(params):\n",
    "  \"\"\"\n",
    "  This will be our estimate function that works out as the calculation of the difference between the experimental\n",
    "  and predicted values and can be used as the objective function\n",
    "\n",
    "  :param params: parameters; array-like data structure (list, tuple, numpy array) for the ode\n",
    "  :return: the error between measured and predicted data, i.e. difS + difX + difA + difV\n",
    "  \"\"\"\n",
    "\n",
    "  # Consider using global to access and change global variables outside of this function\n",
    "  # Otherwise, model, time, initial conditions and experimental data can be hardcoded here within the function\n",
    "  # Nevertheless, use always the global Y (array to store the results) to re-write this variable with new results\n",
    "  global model\n",
    "  global t\n",
    "  global dados_exp\n",
    "  global y0\n",
    "  global Y\n",
    "\n",
    "  # timespan (initial, final, step)\n",
    "  t0 = t[0]\n",
    "\n",
    "  # Initial conditions\n",
    "  y0=y0\n",
    "\n",
    "  # ode\n",
    "  # consider scipy.integrate.ode method, with the integrator lsoda and method bdf\n",
    "  # you should apply the initial values and parameters\n",
    "\n",
    "  # Final time and step\n",
    "  t1 = t[1]\n",
    "  dt = t[2]\n",
    "\n",
    "  # Using the global storing variable Y\n",
    "\n",
    "  # Solve ode for the time step\n",
    "  # see scipy docs on how to resolve the ode for the time steps\n",
    "  # append the results to the Y storing variable\n",
    "  r = ode(model).set_integrator('lsoda', method='bdf')\n",
    "  r.set_initial_value(y0, t0).set_f_params(params)\n",
    "  \n",
    "  a = 0\n",
    "  while r.successful() and r.t < t1:\n",
    "    a += 1\n",
    "    Y[a,:]=r.integrate(r.t+dt)\n",
    "\n",
    "  # Remove the set o P concentrations values calculated from the model, as we have no experimental data to confirm it\n",
    "  \n",
    "  Y_comparable = np.delete(Y,3,1)\n",
    "  \n",
    "  # Consider the metrics to calculate the error between experimental and predicted data\n",
    "  return sum([dst.sqeuclidean(dados_exp.iloc[:,n+1], Y_comparable[:,n]) for n in range(4)])"
   ]
  },
  {
   "cell_type": "code",
   "execution_count": 10,
   "metadata": {
    "id": "ESq3ZBLATEfQ",
    "pycharm": {
     "name": "#%%\n"
    }
   },
   "outputs": [],
   "source": [
    "# Bounds\n",
    "# Consider using the following class for setting the Simulated Annealing bounds\n",
    "class Bounds(object):\n",
    "\n",
    "  def __init__(self, LB=None, UB=None):\n",
    "    if LB is None:\n",
    "      LB = [0, 0, 0]\n",
    "    if UB is None:\n",
    "      UB = [4, 4, 4]\n",
    "\n",
    "    self.lower_bound = np.array(LB)\n",
    "    self.upper_bound = np.array(UB)\n",
    "\n",
    "  def __call__(self, **kwargs):\n",
    "    x = kwargs[\"x_new\"]\n",
    "    tmax = bool(np.all(x <= self.upper_bound))\n",
    "    tmin = bool(np.all(x >= self.lower_bound))\n",
    "\n",
    "    return tmax and tmin"
   ]
  },
  {
   "cell_type": "code",
   "execution_count": 11,
   "metadata": {
    "colab": {
     "base_uri": "https://localhost:8080/",
     "height": 228
    },
    "id": "rmOu9BT2TEfQ",
    "outputId": "77ca6c52-d1b5-4cec-d0c8-ceaf49ee5d07",
    "pycharm": {
     "name": "#%%\n"
    }
   },
   "outputs": [
    {
     "name": "stderr",
     "output_type": "stream",
     "text": [
      "C:\\Users\\Mariana\\anaconda3\\envs\\Labs\\lib\\site-packages\\scipy\\integrate\\_ode.py:1353: UserWarning: lsoda: Excess work done on this call (perhaps wrong Dfun type).\n",
      "  self.messages.get(istate, unexpected_istate_msg)))\n",
      "C:\\Users\\Mariana\\anaconda3\\envs\\Labs\\lib\\site-packages\\scipy\\integrate\\_ode.py:1353: UserWarning: lsoda: Excess work done on this call (perhaps wrong Dfun type).\n",
      "  self.messages.get(istate, unexpected_istate_msg)))\n",
      "C:\\Users\\Mariana\\anaconda3\\envs\\Labs\\lib\\site-packages\\scipy\\integrate\\_ode.py:1353: UserWarning: lsoda: Excess work done on this call (perhaps wrong Dfun type).\n",
      "  self.messages.get(istate, unexpected_istate_msg)))\n",
      "C:\\Users\\Mariana\\anaconda3\\envs\\Labs\\lib\\site-packages\\scipy\\integrate\\_ode.py:1353: UserWarning: lsoda: Excess work done on this call (perhaps wrong Dfun type).\n",
      "  self.messages.get(istate, unexpected_istate_msg)))\n",
      "C:\\Users\\Mariana\\anaconda3\\envs\\Labs\\lib\\site-packages\\scipy\\integrate\\_ode.py:1353: UserWarning: lsoda: Excess work done on this call (perhaps wrong Dfun type).\n",
      "  self.messages.get(istate, unexpected_istate_msg)))\n",
      "C:\\Users\\Mariana\\anaconda3\\envs\\Labs\\lib\\site-packages\\scipy\\integrate\\_ode.py:1353: UserWarning: lsoda: Excess work done on this call (perhaps wrong Dfun type).\n",
      "  self.messages.get(istate, unexpected_istate_msg)))\n",
      "C:\\Users\\Mariana\\anaconda3\\envs\\Labs\\lib\\site-packages\\scipy\\integrate\\_ode.py:1353: UserWarning: lsoda: Excess work done on this call (perhaps wrong Dfun type).\n",
      "  self.messages.get(istate, unexpected_istate_msg)))\n",
      "C:\\Users\\Mariana\\anaconda3\\envs\\Labs\\lib\\site-packages\\scipy\\integrate\\_ode.py:1353: UserWarning: lsoda: Excess work done on this call (perhaps wrong Dfun type).\n",
      "  self.messages.get(istate, unexpected_istate_msg)))\n",
      "C:\\Users\\Mariana\\anaconda3\\envs\\Labs\\lib\\site-packages\\scipy\\integrate\\_ode.py:1353: UserWarning: lsoda: Excess work done on this call (perhaps wrong Dfun type).\n",
      "  self.messages.get(istate, unexpected_istate_msg)))\n",
      "C:\\Users\\Mariana\\anaconda3\\envs\\Labs\\lib\\site-packages\\scipy\\integrate\\_ode.py:1353: UserWarning: lsoda: Excess work done on this call (perhaps wrong Dfun type).\n",
      "  self.messages.get(istate, unexpected_istate_msg)))\n",
      "C:\\Users\\Mariana\\anaconda3\\envs\\Labs\\lib\\site-packages\\scipy\\integrate\\_ode.py:1353: UserWarning: lsoda: Excess work done on this call (perhaps wrong Dfun type).\n",
      "  self.messages.get(istate, unexpected_istate_msg)))\n",
      "C:\\Users\\Mariana\\anaconda3\\envs\\Labs\\lib\\site-packages\\scipy\\integrate\\_ode.py:1353: UserWarning: lsoda: Excess work done on this call (perhaps wrong Dfun type).\n",
      "  self.messages.get(istate, unexpected_istate_msg)))\n",
      "C:\\Users\\Mariana\\anaconda3\\envs\\Labs\\lib\\site-packages\\scipy\\integrate\\_ode.py:1353: UserWarning: lsoda: Excess work done on this call (perhaps wrong Dfun type).\n",
      "  self.messages.get(istate, unexpected_istate_msg)))\n",
      "C:\\Users\\Mariana\\anaconda3\\envs\\Labs\\lib\\site-packages\\scipy\\integrate\\_ode.py:1353: UserWarning: lsoda: Excess work done on this call (perhaps wrong Dfun type).\n",
      "  self.messages.get(istate, unexpected_istate_msg)))\n",
      "C:\\Users\\Mariana\\anaconda3\\envs\\Labs\\lib\\site-packages\\scipy\\integrate\\_ode.py:1353: UserWarning: lsoda: Excess work done on this call (perhaps wrong Dfun type).\n",
      "  self.messages.get(istate, unexpected_istate_msg)))\n",
      "C:\\Users\\Mariana\\anaconda3\\envs\\Labs\\lib\\site-packages\\scipy\\integrate\\_ode.py:1353: UserWarning: lsoda: Excess work done on this call (perhaps wrong Dfun type).\n",
      "  self.messages.get(istate, unexpected_istate_msg)))\n",
      "C:\\Users\\Mariana\\anaconda3\\envs\\Labs\\lib\\site-packages\\scipy\\integrate\\_ode.py:1353: UserWarning: lsoda: Excess work done on this call (perhaps wrong Dfun type).\n",
      "  self.messages.get(istate, unexpected_istate_msg)))\n",
      "C:\\Users\\Mariana\\anaconda3\\envs\\Labs\\lib\\site-packages\\scipy\\integrate\\_ode.py:1353: UserWarning: lsoda: Excess work done on this call (perhaps wrong Dfun type).\n",
      "  self.messages.get(istate, unexpected_istate_msg)))\n",
      "C:\\Users\\Mariana\\anaconda3\\envs\\Labs\\lib\\site-packages\\scipy\\integrate\\_ode.py:1353: UserWarning: lsoda: Excess work done on this call (perhaps wrong Dfun type).\n",
      "  self.messages.get(istate, unexpected_istate_msg)))\n",
      "C:\\Users\\Mariana\\anaconda3\\envs\\Labs\\lib\\site-packages\\scipy\\integrate\\_ode.py:1353: UserWarning: lsoda: Excess work done on this call (perhaps wrong Dfun type).\n",
      "  self.messages.get(istate, unexpected_istate_msg)))\n",
      "C:\\Users\\Mariana\\anaconda3\\envs\\Labs\\lib\\site-packages\\scipy\\integrate\\_ode.py:1353: UserWarning: lsoda: Excess work done on this call (perhaps wrong Dfun type).\n",
      "  self.messages.get(istate, unexpected_istate_msg)))\n",
      "C:\\Users\\Mariana\\anaconda3\\envs\\Labs\\lib\\site-packages\\scipy\\integrate\\_ode.py:1353: UserWarning: lsoda: Excess work done on this call (perhaps wrong Dfun type).\n",
      "  self.messages.get(istate, unexpected_istate_msg)))\n",
      "C:\\Users\\Mariana\\anaconda3\\envs\\Labs\\lib\\site-packages\\scipy\\integrate\\_ode.py:1353: UserWarning: lsoda: Excess work done on this call (perhaps wrong Dfun type).\n",
      "  self.messages.get(istate, unexpected_istate_msg)))\n",
      "C:\\Users\\Mariana\\anaconda3\\envs\\Labs\\lib\\site-packages\\scipy\\integrate\\_ode.py:1353: UserWarning: lsoda: Excess work done on this call (perhaps wrong Dfun type).\n",
      "  self.messages.get(istate, unexpected_istate_msg)))\n",
      "C:\\Users\\Mariana\\anaconda3\\envs\\Labs\\lib\\site-packages\\scipy\\integrate\\_ode.py:1353: UserWarning: lsoda: Excess work done on this call (perhaps wrong Dfun type).\n",
      "  self.messages.get(istate, unexpected_istate_msg)))\n"
     ]
    },
    {
     "name": "stdout",
     "output_type": "stream",
     "text": [
      "global minimum: k1 = 3.916182608293186, miu_max1 = 0.25098058156393227, ks1 = 3.9259975236740683\n"
     ]
    }
   ],
   "source": [
    "model = jm109\n",
    "\n",
    "t = (0, 20, 0.5)\n",
    "\n",
    "dados_exp = pd.read_csv(\"dados_exp.csv\")\n",
    "\n",
    "y0 = [1, 0, 0, 0, 3]\n",
    "\n",
    "Y = np.zeros((41,5))\n",
    "\n",
    "Y[0,:] = y0\n",
    "\n",
    "#Bounds\n",
    "LB = [0, 0, 0]\n",
    "UB = [4, 4, 4]\n",
    "bounds = Bounds(LB, UB)\n",
    "\n",
    "# initial guess, that is the initial values for the parameters to be estimated. It can be those available in the pdf\n",
    "x0 = [3.164, 0.3, 0.2]\n",
    "\n",
    "# Simulated Annealing\n",
    "# consider scipy.optimize.basinhopping method, with the method BFGS, niter 200, seed 1 and the respective bounds.\n",
    "# To perform some testing consider lowering the number of iterations to 10, as SA can take a while\n",
    "\n",
    "minimizer_kwargs = {\"method\": \"BFGS\"}\n",
    "ret = basinhopping(estimate, x0, minimizer_kwargs=minimizer_kwargs,niter=200, accept_test=bounds, seed=1)\n",
    "\n",
    "print(f\"global minimum: k1 = {ret.x[0]}, miu_max1 = {ret.x[1]}, ks1 = {ret.x[2]}\")"
   ]
  },
  {
   "cell_type": "code",
   "execution_count": 12,
   "metadata": {
    "colab": {
     "base_uri": "https://localhost:8080/"
    },
    "id": "cG7FLdObmBu0",
    "outputId": "13290de3-975a-4ebd-e1fd-00c0b39c9365"
   },
   "outputs": [
    {
     "name": "stdout",
     "output_type": "stream",
     "text": [
      "global minimum: k1 = 3.916182608293186, miu_max1 = 0.25098058156393227, ks1 = 3.9259975236740683\n"
     ]
    }
   ],
   "source": [
    "print(f\"global minimum: k1 = {ret.x[0]}, miu_max1 = {ret.x[1]}, ks1 = {ret.x[2]}\")"
   ]
  },
  {
   "cell_type": "code",
   "execution_count": 13,
   "metadata": {
    "colab": {
     "base_uri": "https://localhost:8080/",
     "height": 295
    },
    "id": "5FSn-yR2VXIj",
    "outputId": "3ad4671f-1dd4-4e38-d12f-11df1d75ab9d"
   },
   "outputs": [
    {
     "data": {
      "image/png": "[encoded data removed]",
      "text/plain": [
       "<Figure size 432x288 with 1 Axes>"
      ]
     },
     "metadata": {
      "needs_background": "light"
     },
     "output_type": "display_data"
    }
   ],
   "source": [
    "# Consider using matplotlib for plotting.\n",
    "T = [x * 0.5 for x in range(0, 41)]\n",
    "labels = ['Biomassa', 'Glucose', 'Acetato', 'Volume']\n",
    "\n",
    "# Consider using matplotlib for plotting.\n",
    "fig, ax = plt.subplots()\n",
    "ax.plot(T, dados_exp.iloc[:,1:5])\n",
    "ax.legend(labels)\n",
    "ax.set(xlabel='time (h)', ylabel='voltage (mV)',title='About as simple as it gets, folks')\n",
    "ax.grid()\n",
    "fig.savefig(\"test.png\", dpi=300)\n",
    "plt.show()"
   ]
  },
  {
   "cell_type": "code",
   "execution_count": 14,
   "metadata": {
    "colab": {
     "base_uri": "https://localhost:8080/",
     "height": 295
    },
    "id": "tAMIwXVecdJX",
    "outputId": "3499ca80-084a-42b5-939a-3f3f2c31136f"
   },
   "outputs": [
    {
     "data": {
      "image/png": "[encoded data removed]",
      "text/plain": [
       "<Figure size 432x288 with 1 Axes>"
      ]
     },
     "metadata": {
      "needs_background": "light"
     },
     "output_type": "display_data"
    }
   ],
   "source": [
    "# Consider using matplotlib for plotting.\n",
    "T = [x * 0.5 for x in range(0, 41)]\n",
    "labels = ['Biomassa', 'Glucose', 'Acetato', 'PR', 'Volume']\n",
    "\n",
    "# Consider using matplotlib for plotting.\n",
    "fig, ax = plt.subplots()\n",
    "ax.plot(T, Y)\n",
    "ax.legend(labels)\n",
    "ax.set(xlabel='time (h)', ylabel='voltage (mV)',title='About as simple as it gets, folks')\n",
    "ax.grid()\n",
    "fig.savefig(\"test.png\", dpi=300)\n",
    "plt.show()"
   ]
  },
  {
   "cell_type": "markdown",
   "metadata": {
    "id": "Fj32sbgHTEfQ"
   },
   "source": [
    "## f)"
   ]
  },
  {
   "cell_type": "code",
   "execution_count": 16,
   "metadata": {
    "id": "d3p3LG64TEfR",
    "pycharm": {
     "name": "#%%\n"
    }
   },
   "outputs": [
    {
     "data": {
      "image/png": "[encoded data removed]",
      "text/plain": [
       "<Figure size 432x288 with 1 Axes>"
      ]
     },
     "metadata": {
      "needs_background": "light"
     },
     "output_type": "display_data"
    },
    {
     "data": {
      "image/png": "[encoded data removed]",
      "text/plain": [
       "<Figure size 432x288 with 1 Axes>"
      ]
     },
     "metadata": {
      "needs_background": "light"
     },
     "output_type": "display_data"
    }
   ],
   "source": [
    "y0 = [ 1, 0, 0, 0, 3] # PR Has been removed as it is not useful, it has not been provided in the experimentally produced dataset\n",
    "\n",
    "Fe = 0.5\n",
    "Se = 300\n",
    "\n",
    "# params = params\n",
    "k1 = 3.164\n",
    "umax1 = 0.3\n",
    "ks1 = 0.2\n",
    "params = [k1, umax1, ks1]\n",
    "\n",
    "# k parameters except k1\n",
    "k2 = 25.22\n",
    "k3 = 10.90\n",
    "k4 = 6.382\n",
    "k11 = 10.0\n",
    "\n",
    "# umax's except umax1\n",
    "umax2 = 0.6\n",
    "umax3 = 0.2\n",
    "\n",
    "# Ks's except ks1\n",
    "ks2 = 0.2\n",
    "ks3 = 0.5\n",
    "\n",
    "\n",
    "# Consider using sympy.symbols to create algebric variables to be used on the derivatives (X, S, k1, ks1, ...)\n",
    "(X, S, A, V, k1, ks1, umax1) = symbols('X, S, A, V, k1, ks1, umax1')\n",
    "\n",
    "# mu's\n",
    "miu1 = umax1*S/(S+ks1)\n",
    "miu2 = umax2*S/(S+ks2)\n",
    "miu3 = umax3*A/(A+ks3)\n",
    "\n",
    "\n",
    "# ordinary differential equations DX and DS\n",
    "dXdt = miu1*X + miu2*X + miu3*X - (Fe/V)*X\n",
    "dSdt = (-k1)*miu1*X - k2*miu2*X - (Fe/V)*S + (Fe/V)*Se\n",
    "\n",
    "# perform the derivatives in order at k1, umax1 and ks1. Consider using sympy's method: diff\n",
    "# dXk1 = sp.diff(dxdt, k1)\n",
    "from sympy import diff\n",
    "\n",
    "dXk1 = diff(dXdt, k1)\n",
    "dXumax1 = diff(dXdt, umax1)\n",
    "dXks1 = diff(dXdt, ks1)\n",
    "\n",
    "dSk1 = diff(dSdt, k1)\n",
    "dSumax1 = diff(dSdt, umax1)\n",
    "dSks1 = diff(dSdt, ks1)\n",
    "\n",
    "# transform the derivates expression into lambda functions to calculate the calculate the sensitivity values of each\n",
    "# derivate form. Consider using sympy lambdify where the args of the lambda function are the algebric variables in the\n",
    "# derivate expression. Choose the numpy module for the calculations\n",
    "# dXumax1 = sp.lambdify((X, S, ks1), dXumax1, \"numpy\")\n",
    "\n",
    "from sympy.utilities.lambdify import lambdify\n",
    "\n",
    "dXk1 = lambdify((X,S,k1,ks1, umax1), dXk1, \"numpy\")\n",
    "dXumax1 = lambdify((X,S,k1,ks1, umax1), dXumax1, \"numpy\")\n",
    "dXks1 = lambdify((X,S,k1,ks1, umax1), dXks1, \"numpy\")\n",
    "\n",
    "\n",
    "dSk1 = lambdify((X,S,k1,ks1, umax1), dSk1, \"numpy\")\n",
    "dSumax1 = lambdify((X,S,k1,ks1, umax1), dSumax1, \"numpy\")\n",
    "dSks1 = lambdify((X,S,k1,ks1, umax1), dSks1, \"numpy\")\n",
    "\n",
    "\n",
    "# t = timespan\n",
    "# Final time and step\n",
    "t0 = 0\n",
    "t1 = 20\n",
    "dt = 0.5\n",
    "\n",
    "# ode\n",
    "# consider scipy.integrate.ode method, with the integrator lsoda and method bdf\n",
    "# you should apply the initial values and parameters\n",
    "\n",
    "r = ode(jm109).set_integrator('lsoda', method='bdf')\n",
    "r.set_initial_value(y0, t0).set_f_params(params)\n",
    "\n",
    "\n",
    "# Using the global storing variable Y\n",
    "T = [0]\n",
    "Y = np.zeros((41,5))\n",
    "Y[0,:] = y0\n",
    "\n",
    "# Solve ode for the time step\n",
    "# see scipy docs on how to resolve the ode for the time steps\n",
    "# append the results to the Y storing variable\n",
    "\n",
    "a = 0\n",
    "while r.successful() and r.t < t1:\n",
    "    T.append(r.t+dt) #r.t\n",
    "    a += 1\n",
    "    Y[a,:]=r.integrate(r.t+dt)\n",
    "\n",
    "k1 = 3.164\n",
    "umax1 = 0.3\n",
    "ks1 = 0.2\n",
    "\n",
    "# create the dx and ds arrays executing the lambda function for the X, S, k1, umax1, ks1 values\n",
    "dX = np.zeros((41,3))\n",
    "dX[:,0] = dXk1(Y[:,0],Y[:,1],k1, umax1, ks1)\n",
    "dX[:,1] = dXumax1(Y[:,0],Y[:,1],k1, umax1, ks1)\n",
    "dX[:,2] = dXks1(Y[:,0],Y[:,1],k1, umax1, ks1)\n",
    "\n",
    "dS = np.zeros((41,3))\n",
    "dS[:,0] = dSk1(Y[:,0],Y[:,1],k1, umax1, ks1)\n",
    "dS[:,1] = dSumax1(Y[:,0],Y[:,1],k1, umax1, ks1)\n",
    "dS[:,2] = dSks1(Y[:,0],Y[:,1],k1, umax1, ks1)\n",
    "\n",
    "# create the time array. Hint: np.arange(timespan)\n",
    "\n",
    "# Consider using matplotlib for plotting.\n",
    "labels = ['dXk1', 'dXumax1', 'dXks1']\n",
    "\n",
    "fig, ax = plt.subplots()\n",
    "ax.plot(T, dX)\n",
    "ax.legend(labels)\n",
    "ax.set(xlabel='time (h)', ylabel='voltage (mV)',title='About as simple as it gets, folks')\n",
    "ax.grid()\n",
    "fig.savefig(\"test.png\", dpi=300)\n",
    "plt.show()\n",
    "\n",
    "labels = ['dSk1', 'dSumax1', 'dSks1']\n",
    "\n",
    "fig, ax = plt.subplots()\n",
    "ax.plot(T, dS)\n",
    "ax.legend(labels)\n",
    "ax.set(xlabel='time (h)', ylabel='voltage (mV)',title='About as simple as it gets, folks')\n",
    "ax.grid()\n",
    "fig.savefig(\"test.png\", dpi=300)\n",
    "plt.show()"
   ]
  },
  {
   "cell_type": "markdown",
   "metadata": {
    "id": "EDbMIpxqTEfR"
   },
   "source": [
    "## g)\n",
    "\n",
    "Com base nos resultados anteriores podemos confirmar que tanto na derivada de X e S em função de k1, esta é proxima ou igual de 0 no periodo estudado. Como tal podemos remover este do modelo sem causar alterações consideraveis dos valores finais.\n",
    "\n",
    "$$\\frac{d[X]}{dt} = (\\mu_1 + \\mu_2 + \\mu_3) * [X] - \\frac{Fe}{V}[X]$$\n",
    "\n",
    "$$\\frac{d[S]}{dt} = - (mu_1 + k_2 \\ \\mu_2) \\ [X] + \\frac{Fe}{V}[S_e] - \\frac{Fe}{V}[S]$$\n",
    "\n",
    "$$\\frac{d[A]}{dt} = (k_3 \\ \\mu_2 - k_4 \\ \\mu_3 ) \\ [X] - \\frac{Fe}{V}[A]$$\n",
    "\n",
    "$$\\frac{d[P]}{dt} = k_{11} \\ \\mu_1 \\ [X] - \\frac{Fe}{V}[P]$$\n",
    "\n",
    "$$\\frac{d[V]}{dt} = Fe$$\n",
    "\n",
    "O modelo, porém é mais sensível aos outros valores. Sendo que estes têm comportamentos contrários para a variável X e S. Isto faz sentido, uma vez que o que leva a um aumento de consumo do substrato, é responsável também pelo o aumento do produto."
   ]
  },
  {
   "cell_type": "code",
   "execution_count": null,
   "metadata": {
    "pycharm": {
     "name": "#%%\n"
    }
   },
   "outputs": [],
   "source": []
  },
  {
   "cell_type": "markdown",
   "metadata": {
    "id": "gRkwq2m_TEfR"
   },
   "source": [
    "## h)"
   ]
  },
  {
   "cell_type": "code",
   "execution_count": 19,
   "metadata": {
    "pycharm": {
     "name": "#%%\n"
    }
   },
   "outputs": [
    {
     "ename": "ValueError",
     "evalue": "diag requires an array of at least two dimensions",
     "output_type": "error",
     "traceback": [
      "\u001b[1;31m---------------------------------------------------------------------------\u001b[0m",
      "\u001b[1;31mValueError\u001b[0m                                Traceback (most recent call last)",
      "\u001b[1;32m<ipython-input-19-2180bdf0c6d5>\u001b[0m in \u001b[0;36m<module>\u001b[1;34m\u001b[0m\n\u001b[0;32m     21\u001b[0m \u001b[0mJfun\u001b[0m \u001b[1;33m=\u001b[0m \u001b[0mndt\u001b[0m\u001b[1;33m.\u001b[0m\u001b[0mJacobian\u001b[0m\u001b[1;33m(\u001b[0m\u001b[0mbl21\u001b[0m\u001b[1;33m)\u001b[0m\u001b[1;33m\u001b[0m\u001b[1;33m\u001b[0m\u001b[0m\n\u001b[0;32m     22\u001b[0m \u001b[1;33m\u001b[0m\u001b[0m\n\u001b[1;32m---> 23\u001b[1;33m \u001b[0mnp\u001b[0m\u001b[1;33m.\u001b[0m\u001b[0mtrace\u001b[0m\u001b[1;33m(\u001b[0m\u001b[0mJfun\u001b[0m\u001b[1;33m)\u001b[0m\u001b[1;33m\u001b[0m\u001b[1;33m\u001b[0m\u001b[0m\n\u001b[0m\u001b[0;32m     24\u001b[0m \u001b[0mnp\u001b[0m\u001b[1;33m.\u001b[0m\u001b[0mlinalg\u001b[0m\u001b[1;33m.\u001b[0m\u001b[0mdet\u001b[0m\u001b[1;33m(\u001b[0m\u001b[0mJfun\u001b[0m\u001b[1;33m)\u001b[0m\u001b[1;33m\u001b[0m\u001b[1;33m\u001b[0m\u001b[0m\n",
      "\u001b[1;32m<__array_function__ internals>\u001b[0m in \u001b[0;36mtrace\u001b[1;34m(*args, **kwargs)\u001b[0m\n",
      "\u001b[1;32m~\\anaconda3\\envs\\Labs\\lib\\site-packages\\numpy\\core\\fromnumeric.py\u001b[0m in \u001b[0;36mtrace\u001b[1;34m(a, offset, axis1, axis2, dtype, out)\u001b[0m\n\u001b[0;32m   1696\u001b[0m         \u001b[1;32mreturn\u001b[0m \u001b[0masarray\u001b[0m\u001b[1;33m(\u001b[0m\u001b[0ma\u001b[0m\u001b[1;33m)\u001b[0m\u001b[1;33m.\u001b[0m\u001b[0mtrace\u001b[0m\u001b[1;33m(\u001b[0m\u001b[0moffset\u001b[0m\u001b[1;33m=\u001b[0m\u001b[0moffset\u001b[0m\u001b[1;33m,\u001b[0m \u001b[0maxis1\u001b[0m\u001b[1;33m=\u001b[0m\u001b[0maxis1\u001b[0m\u001b[1;33m,\u001b[0m \u001b[0maxis2\u001b[0m\u001b[1;33m=\u001b[0m\u001b[0maxis2\u001b[0m\u001b[1;33m,\u001b[0m \u001b[0mdtype\u001b[0m\u001b[1;33m=\u001b[0m\u001b[0mdtype\u001b[0m\u001b[1;33m,\u001b[0m \u001b[0mout\u001b[0m\u001b[1;33m=\u001b[0m\u001b[0mout\u001b[0m\u001b[1;33m)\u001b[0m\u001b[1;33m\u001b[0m\u001b[1;33m\u001b[0m\u001b[0m\n\u001b[0;32m   1697\u001b[0m     \u001b[1;32melse\u001b[0m\u001b[1;33m:\u001b[0m\u001b[1;33m\u001b[0m\u001b[1;33m\u001b[0m\u001b[0m\n\u001b[1;32m-> 1698\u001b[1;33m         \u001b[1;32mreturn\u001b[0m \u001b[0masanyarray\u001b[0m\u001b[1;33m(\u001b[0m\u001b[0ma\u001b[0m\u001b[1;33m)\u001b[0m\u001b[1;33m.\u001b[0m\u001b[0mtrace\u001b[0m\u001b[1;33m(\u001b[0m\u001b[0moffset\u001b[0m\u001b[1;33m=\u001b[0m\u001b[0moffset\u001b[0m\u001b[1;33m,\u001b[0m \u001b[0maxis1\u001b[0m\u001b[1;33m=\u001b[0m\u001b[0maxis1\u001b[0m\u001b[1;33m,\u001b[0m \u001b[0maxis2\u001b[0m\u001b[1;33m=\u001b[0m\u001b[0maxis2\u001b[0m\u001b[1;33m,\u001b[0m \u001b[0mdtype\u001b[0m\u001b[1;33m=\u001b[0m\u001b[0mdtype\u001b[0m\u001b[1;33m,\u001b[0m \u001b[0mout\u001b[0m\u001b[1;33m=\u001b[0m\u001b[0mout\u001b[0m\u001b[1;33m)\u001b[0m\u001b[1;33m\u001b[0m\u001b[1;33m\u001b[0m\u001b[0m\n\u001b[0m\u001b[0;32m   1699\u001b[0m \u001b[1;33m\u001b[0m\u001b[0m\n\u001b[0;32m   1700\u001b[0m \u001b[1;33m\u001b[0m\u001b[0m\n",
      "\u001b[1;31mValueError\u001b[0m: diag requires an array of at least two dimensions"
     ]
    }
   ],
   "source": [
    "# Initial conditions\n",
    "y0 = [3, 8, 0, 0, 6]\n",
    "\n",
    "# Parameters (Include all parameters required and make sure the function bl21 can unpack them all)\n",
    "params = [3.164, 25.22, 10.90, 6.382, 1.074, 11.89, 6.098, 1.283, 19.01, 6.576, 10.0]\n",
    "miu_max = [0.3, 0.6, 0.2]\n",
    "ks = [0.2, 0.2, 0.5]\n",
    "qs_params = [0.5, 300]\n",
    "\n",
    "# Initial time\n",
    "t0 = 0\n",
    "\n",
    "r = ode(bl21).set_integrator('lsoda', method='bdf')\n",
    "r.set_initial_value(y0, t0).set_f_params(params, miu_max, ks, [], qs_params)\n",
    "\n",
    "def bl21_opt(Y,t,k,miu_max,ks,qs):\n",
    "\treturn bl21(t,Y,k,miu_max,ks,qs=qs)\n",
    "\n",
    "# a = fsolve(bl21_opt, y0, (t0, params, miu_max, ks, qs_params), full_output=True)\n",
    "\n",
    "Jfun = ndt.Jacobian(bl21)\n",
    "\n",
    "np.trace(Jfun)\n",
    "np.linalg.det(Jfun)"
   ]
  },
  {
   "cell_type": "code",
   "execution_count": 23,
   "metadata": {
    "id": "nmNZy9q_TEfR",
    "pycharm": {
     "name": "#%%\n"
    }
   },
   "outputs": [
    {
     "name": "stdout",
     "output_type": "stream",
     "text": [
      "Jacobiano: \n",
      " [[   0.       27.        2.4       0.    ]\n",
      " [   0.     -482.436     0.        0.    ]\n",
      " [   0.      196.2     -15.3168    0.    ]\n",
      " [   0.        0.        0.        0.    ]]\n",
      "Traço: -497.75280000000015\n",
      "Determinante: 0.0\n"
     ]
    },
    {
     "name": "stderr",
     "output_type": "stream",
     "text": [
      "C:\\Users\\Mariana\\anaconda3\\envs\\Labs\\lib\\site-packages\\ipykernel_launcher.py:35: RuntimeWarning: divide by zero encountered in double_scalars\n",
      "C:\\Users\\Mariana\\anaconda3\\envs\\Labs\\lib\\site-packages\\numdifftools\\extrapolation.py:492: RuntimeWarning: invalid value encountered in subtract\n",
      "  old_sequence[-m + 1:]) * fact)\n",
      "C:\\Users\\Mariana\\anaconda3\\envs\\Labs\\lib\\site-packages\\numdifftools\\extrapolation.py:398: RuntimeWarning: invalid value encountered in subtract\n",
      "  abserr = err1 + err2 + np.where(converged, tol2 * 10, np.abs(result - e2))\n",
      "C:\\Users\\Mariana\\anaconda3\\envs\\Labs\\lib\\site-packages\\ipykernel_launcher.py:35: RuntimeWarning: divide by zero encountered in double_scalars\n",
      "C:\\Users\\Mariana\\anaconda3\\envs\\Labs\\lib\\site-packages\\numdifftools\\extrapolation.py:492: RuntimeWarning: invalid value encountered in subtract\n",
      "  old_sequence[-m + 1:]) * fact)\n",
      "C:\\Users\\Mariana\\anaconda3\\envs\\Labs\\lib\\site-packages\\numdifftools\\extrapolation.py:398: RuntimeWarning: invalid value encountered in subtract\n",
      "  abserr = err1 + err2 + np.where(converged, tol2 * 10, np.abs(result - e2))\n",
      "C:\\Users\\Mariana\\anaconda3\\envs\\Labs\\lib\\site-packages\\ipykernel_launcher.py:35: RuntimeWarning: divide by zero encountered in double_scalars\n",
      "C:\\Users\\Mariana\\anaconda3\\envs\\Labs\\lib\\site-packages\\numdifftools\\extrapolation.py:492: RuntimeWarning: invalid value encountered in subtract\n",
      "  old_sequence[-m + 1:]) * fact)\n",
      "C:\\Users\\Mariana\\anaconda3\\envs\\Labs\\lib\\site-packages\\numdifftools\\extrapolation.py:398: RuntimeWarning: invalid value encountered in subtract\n",
      "  abserr = err1 + err2 + np.where(converged, tol2 * 10, np.abs(result - e2))\n"
     ]
    }
   ],
   "source": [
    "dX = Symbol('dX')\n",
    "dS = Symbol('dS')\n",
    "X = Symbol('X')\n",
    "dt = Symbol('dt')\n",
    "S = Symbol('S')\n",
    "S0 = Symbol('S0')\n",
    "K1,K2,K3,K4 = symbols('K1:5')\n",
    "Ks1, Ks2, Ks3 = symbols('Ks1:4')\n",
    "u1,u2,u3,u4 = symbols('u1:5')\n",
    "umax1 = Symbol('umax1')\n",
    "umax2 = Symbol('umax2')\n",
    "umax3 = Symbol('umax3')\n",
    "A = Symbol('A')\n",
    "V = Symbol('V')\n",
    "Fe = Symbol('Fe')\n",
    "Fs = Symbol('Fe')\n",
    "\n",
    "def func(y0):\n",
    "\t# Condicoes iniciais\n",
    "\tX = y0[0]\n",
    "\tS = y0[1]\n",
    "\tA = y0[2]\n",
    "\tV = y0[3]\n",
    "\n",
    "\t# Parametros\n",
    "\tS0 = 300\n",
    "\tFe = 0.5\n",
    "\tFs = 0.5\n",
    "\tK1,K2,K3,K4,Ks1,Ks2,Ks3 = [3.164, 25.22, 10.90, 6.382, 0.2, 0.2, 0.5]\n",
    "\tumax1,umax2,umax3 = [0.3, 0.6, 0.2]\n",
    "\n",
    "\t#Equacoes\n",
    "\tu1=umax1*(S/(Ks1+S))\n",
    "\tu2=umax2*(S/(Ks2+S))\n",
    "\tu3=umax3*(A/(Ks3+A))\n",
    "\treturn np.array([u1 * X + u2 * X + u3 * X, (-K1) * u1 * X - K2 * u2 * X ,K3 * u2 * X - K4 * u3 * X, Fe-Fs])\n",
    "\n",
    "jacob = ndt.Jacobian(func)\n",
    "print('Jacobiano: \\n', jacob([6,0,0,6]))\n",
    "\n",
    "print('Traço:', np.trace(jacob([6,0,0,6])))\n",
    "print('Determinante:', np.linalg.det(jacob([6,0,0,6])))"
   ]
  },
  {
   "cell_type": "code",
   "execution_count": null,
   "metadata": {},
   "outputs": [],
   "source": []
  }
 ],
 "metadata": {
  "colab": {
   "collapsed_sections": [],
   "name": "Copy of ficha.ipynb",
   "provenance": []
  },
  "kernelspec": {
   "display_name": "Python 3",
   "language": "python",
   "name": "python3"
  },
  "language_info": {
   "codemirror_mode": {
    "name": "ipython",
    "version": 3
   },
   "file_extension": ".py",
   "mimetype": "text/x-python",
   "name": "python",
   "nbconvert_exporter": "python",
   "pygments_lexer": "ipython3",
   "version": "3.7.9"
  }
 },
 "nbformat": 4,
 "nbformat_minor": 1
}
