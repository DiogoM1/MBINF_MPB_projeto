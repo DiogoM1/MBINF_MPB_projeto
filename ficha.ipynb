{
 "cells": [
  {
   "cell_type": "markdown",
   "source": [
    "# Ficha de Trabalho 1"
   ],
   "metadata": {
    "collapsed": false
   }
  },
  {
   "cell_type": "code",
   "execution_count": null,
   "outputs": [],
   "source": [
    "#imports\n",
    "import pandas as pd\n",
    "import numpy as np\n",
    "import matplotlib.pyplot as plt\n",
    "from scipy.integrate import ode\n",
    "from scipy.optimize import basinhopping"
   ],
   "metadata": {
    "collapsed": false,
    "pycharm": {
     "name": "#%%\n"
    }
   }
  },
  {
   "cell_type": "markdown",
   "source": [
    "Criar o modelo para a bactéria BL21"
   ],
   "metadata": {
    "collapsed": false
   }
  },
  {
   "cell_type": "code",
   "execution_count": null,
   "outputs": [],
   "source": [
    "# Model bl21\n",
    "def bl21(t, Y, params):\n",
    "\n",
    "    \"\"\"\n",
    "\n",
    "    This will be the model for the strain BL21\n",
    "\n",
    "    :param t: time; This argument should not be altered\n",
    "    :param Y: initial conditions; array-like data structure (list, tuple, numpy array)\n",
    "    :param params: parameters; array-like data structure (list, tuple, numpy array)\n",
    "    :return: K * phi - (D (F/V) * variables) + zeros; note that numpy.dot() is the standard for matrices multiplication\n",
    "\n",
    "    \"\"\"\n",
    "\n",
    "\n",
    "\n",
    "    return"
   ],
   "metadata": {
    "collapsed": false,
    "pycharm": {
     "name": "#%%\n"
    }
   }
  },
  {
   "cell_type": "markdown",
   "source": [
    "## a)-b)"
   ],
   "metadata": {
    "collapsed": false
   }
  },
  {
   "cell_type": "code",
   "execution_count": null,
   "outputs": [],
   "source": [
    "# Initial conditions\n",
    "# y0 = [3.164, 25.22, 10.90, 6.382, 1.074, 11.89, 6.098, 1.283, 19.01, 6.576, 10.0]\n",
    "y0 = [3, 8, 0, 0, 4]\n",
    "\n",
    "# Parameters (Include all parameters required and make sure the function bl21 can unpack them all)\n",
    "params = [[0.3, 0.6, 0.2], [0.2, 0.2, 0.5]]\n",
    "\n",
    "# Initial time\n",
    "t0 = 0\n",
    "\n",
    "# ode\n",
    "'''\n",
    "consider scipy.integrate.ode method, with the integrator lsoda and method bdf\n",
    "you should apply the initial values and parameters\n",
    "'''\n",
    "\n",
    "# Final time and step\n",
    "# t1 =\n",
    "# dt =\n",
    "\n",
    "#Consider creating some storing variables (T and Y)\n",
    "\n",
    "# Solve ode for the time step\n",
    "'''\n",
    "see scipy docs on how to resolve the ode for the time steps\n",
    "append the results to the storing variables\n",
    "'''\n",
    "\n",
    "# Plotting\n",
    "T = np.array([0]+T)\n",
    "Y = np.array([y0]+Y)\n",
    "\n",
    "# Consider using matplotlib for plotting."
   ],
   "metadata": {
    "collapsed": false,
    "pycharm": {
     "name": "#%%\n"
    }
   }
  },
  {
   "cell_type": "markdown",
   "source": [
    "## c)-d)"
   ],
   "metadata": {
    "collapsed": false
   }
  },
  {
   "cell_type": "code",
   "execution_count": null,
   "outputs": [],
   "source": [
    "# Initial conditions\n",
    "y0 = []\n",
    "\n",
    "# Parameters (Include all parameters required and make sure the function bl21 can unpack them all)\n",
    "params = []\n",
    "\n",
    "# Initial time\n",
    "t0 = 0\n",
    "\n",
    "# ode\n",
    "'''\n",
    "consider scipy.integrate.ode method, with the integrator lsoda and method bdf\n",
    "you should apply the initial values and parameters\n",
    "'''\n",
    "\n",
    "# Final time and step\n",
    "# t1 =\n",
    "# dt =\n",
    "\n",
    "#Consider creating some storing variables (T and Y)\n",
    "\n",
    "# Solve ode for the time step\n",
    "'''\n",
    "see scipy docs on how to resolve the ode for the time steps\n",
    "append the results to the storing variables\n",
    "'''\n",
    "\n",
    "# Plotting\n",
    "T = np.array([0]+T)\n",
    "Y = np.array([y0]+Y)\n",
    "\n",
    "# Consider using matplotlib for plotting."
   ],
   "metadata": {
    "collapsed": false,
    "pycharm": {
     "name": "#%%\n"
    }
   }
  },
  {
   "cell_type": "markdown",
   "source": [
    "## e)"
   ],
   "metadata": {
    "collapsed": false
   }
  },
  {
   "cell_type": "markdown",
   "source": [
    "Criar modelo para a bactéria JM109"
   ],
   "metadata": {
    "collapsed": false
   }
  },
  {
   "cell_type": "code",
   "execution_count": null,
   "outputs": [],
   "source": [
    "def jm109(t, Y, params):\n",
    "    \"\"\"\n",
    "\n",
    "    This will be the model for the strain JM109 which is similar to the BL21, but it should have slight modifications\n",
    "\n",
    "    :param t: time; This argument should not be altered\n",
    "    :param Y: initial conditions; array-like data structure (list, tuple, numpy array)\n",
    "    :param params: parameters; array-like data structure (list, tuple, numpy array) - NOTE THAT THESE ARGUMENT MUST\n",
    "    CONTAIN ONLY AND ONLY THOSE PARAMETERS TO BE ESTIMATED. The remain parameters should be hardcoded within the\n",
    "    function\n",
    "    :return: K * phi - (D * variables) + zeros; note that numpy.dot() is the standard for matrices multiplication\n",
    "\n",
    "    \"\"\"\n",
    "    return"
   ],
   "metadata": {
    "collapsed": false,
    "pycharm": {
     "name": "#%%\n"
    }
   }
  },
  {
   "cell_type": "markdown",
   "source": [
    "Criar função para estimação dos parâmetros"
   ],
   "metadata": {
    "collapsed": false
   }
  },
  {
   "cell_type": "code",
   "execution_count": null,
   "outputs": [],
   "source": [
    "def estimate(params):\n",
    "\n",
    "    \"\"\"\n",
    "\n",
    "    This will be our estimate function that works out as the calculation of the difference between the experimental\n",
    "    and predicted values and can be used as the objective function\n",
    "\n",
    "    :param params: parameters; array-like data structure (list, tuple, numpy array) for the ode\n",
    "    :return: the error between measured and predicted data, i.e. difS + difX + difA + difV\n",
    "    \"\"\"\n",
    "\n",
    "\n",
    "    # Consider using global to access and change global variables outside of this function\n",
    "    # Otherwise, model, time, initial conditions and experimental data can be hardcoded here within the function\n",
    "    # Nevertheless, use always the global Y (array to store the results) to re-write this variable with new results\n",
    "    global model\n",
    "    global t\n",
    "    global dados_exp\n",
    "    global y0\n",
    "    global Y\n",
    "\n",
    "    # timespan (initial, final, step)\n",
    "    # Initial time\n",
    "\n",
    "    # Initial conditions\n",
    "    # y0\n",
    "\n",
    "    # ode\n",
    "    # consider scipy.integrate.ode method, with the integrator lsoda and method bdf\n",
    "    # you should apply the initial values and parameters\n",
    "\n",
    "    # Final time and step\n",
    "    # t1 =\n",
    "    # dt =\n",
    "\n",
    "    # Using the global storing variable Y\n",
    "\n",
    "    # Solve ode for the time step\n",
    "    # see scipy docs on how to resolve the ode for the time steps\n",
    "    # append the results to the Y storing variable\n",
    "\n",
    "    # Consider the metrics to calculate the error between experimental and predicted data\n",
    "\n",
    "    return"
   ],
   "metadata": {
    "collapsed": false,
    "pycharm": {
     "name": "#%%\n"
    }
   }
  },
  {
   "cell_type": "code",
   "execution_count": null,
   "outputs": [],
   "source": [
    "# Bounds\n",
    "# Consider using the following class for setting the Simulated Annealing bounds\n",
    "class Bounds(object):\n",
    "\n",
    "    def __init__(self, LB=None, UB=None):\n",
    "\n",
    "        if LB is None:\n",
    "            LB = [0, 0, 0]\n",
    "\n",
    "        if UB is None:\n",
    "            UB = [4, 4, 4]\n",
    "\n",
    "        self.lower_bound = np.array(LB)\n",
    "        self.upper_bound = np.array(UB)\n",
    "\n",
    "    def __call__(self, **kwargs):\n",
    "\n",
    "        x = kwargs[\"x_new\"]\n",
    "\n",
    "        tmax = bool(np.all(x <= self.upper_bound))\n",
    "        tmin = bool(np.all(x >= self.lower_bound))\n",
    "\n",
    "        return tmax and tmin"
   ],
   "metadata": {
    "collapsed": false,
    "pycharm": {
     "name": "#%%\n"
    }
   }
  },
  {
   "cell_type": "code",
   "execution_count": null,
   "outputs": [],
   "source": [
    "# model = jm109\n",
    "\n",
    "# t = timespan\n",
    "\n",
    "# dados_exp = pd.read_excel or pd.read_csv\n",
    "\n",
    "# y0 = initial conditions\n",
    "\n",
    "# Y = initialize the storing array. consider np.zeros()\n",
    "\n",
    "# Y[0,:] = append the initial conditions to the results\n",
    "\n",
    "#Bounds\n",
    "LB = [0, 0, 0]\n",
    "UB = [4, 4, 4]\n",
    "bounds = Bounds(LB, UB)\n",
    "\n",
    "# Simulated Annealing\n",
    "# consider scipy.optimize.basinhopping method, with the method BFGS, niter 200, seed 1 and the respective bounds.\n",
    "# To perform some testing consider lowering the number of iterations to 10, as SA can take a while\n",
    "\n",
    "# initial guess, that is the initial values for the parameters to be estimated. It can be those available in the pdf\n",
    "x0 = []\n",
    "\n",
    "# Consider using matplotlib for plotting."
   ],
   "metadata": {
    "collapsed": false,
    "pycharm": {
     "name": "#%%\n"
    }
   }
  },
  {
   "cell_type": "markdown",
   "source": [
    "## f)"
   ],
   "metadata": {
    "collapsed": false
   }
  },
  {
   "cell_type": "code",
   "execution_count": null,
   "outputs": [],
   "source": [
    "# y0 = initial conditions\n",
    "\n",
    "# Fe = Fe\n",
    "# Se = Se\n",
    "\n",
    "# params = params\n",
    "\n",
    "# k parameters except k1\n",
    "\n",
    "# umax's except umax1\n",
    "\n",
    "# Ks's except ks1\n",
    "ks2 = 0.2\n",
    "ks3 = 0.5\n",
    "\n",
    "# Consider using sympy.symbols to create algebric variables to be used on the derivatives (X, S, k1, ks1, ...)\n",
    "\n",
    "# mu's\n",
    "\n",
    "# ordinary differential equations DX and DS\n",
    "\n",
    "# perform the derivatives in order at k1, umax1 and ks1. Consider using sympy's method: diff\n",
    "# dXk1 = sp.diff(dxdt, k1)\n",
    "\n",
    "# transform the derivates expression into lambda functions to calculate the calculate the sensitivity values of each\n",
    "# derivate form. Consider using sympy lambdify where the args of the lambda function are the algebric variables in the\n",
    "# derivate expression. Choose the numpy module for the calculations\n",
    "# dXmu1 = sp.lambdify((X, S, ks1), dXmu1, \"numpy\")\n",
    "\n",
    "\n",
    "# t = timespan\n",
    "# Final time and step\n",
    "# t1 =\n",
    "# dt =\n",
    "\n",
    "# ode\n",
    "# consider scipy.integrate.ode method, with the integrator lsoda and method bdf\n",
    "# you should apply the initial values and parameters\n",
    "\n",
    "# Using the global storing variable Y\n",
    "\n",
    "# Solve ode for the time step\n",
    "# see scipy docs on how to resolve the ode for the time steps\n",
    "# append the results to the Y storing variable\n",
    "\n",
    "# create the dx and ds arrays executing the lambda function for the X, S, k1, umax1, ks1 values\n",
    "\n",
    "# create the time array. Hint: np.arange(timespan)\n",
    "\n",
    "# Consider using matplotlib for plotting."
   ],
   "metadata": {
    "collapsed": false,
    "pycharm": {
     "name": "#%%\n"
    }
   }
  },
  {
   "cell_type": "markdown",
   "source": [
    "## g)"
   ],
   "metadata": {
    "collapsed": false
   }
  },
  {
   "cell_type": "markdown",
   "source": [
    "## h)"
   ],
   "metadata": {
    "collapsed": false
   }
  },
  {
   "cell_type": "code",
   "execution_count": null,
   "outputs": [],
   "source": [],
   "metadata": {
    "collapsed": false,
    "pycharm": {
     "name": "#%%\n"
    }
   }
  }
 ],
 "metadata": {
  "kernelspec": {
   "display_name": "Python 3",
   "language": "python",
   "name": "python3"
  },
  "language_info": {
   "codemirror_mode": {
    "name": "ipython",
    "version": 2
   },
   "file_extension": ".py",
   "mimetype": "text/x-python",
   "name": "python",
   "nbconvert_exporter": "python",
   "pygments_lexer": "ipython2",
   "version": "2.7.6"
  }
 },
 "nbformat": 4,
 "nbformat_minor": 0
}