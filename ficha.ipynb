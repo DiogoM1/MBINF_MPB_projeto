{
 "nbformat": 4,
 "nbformat_minor": 0,
 "metadata": {
  "kernelspec": {
   "display_name": "Python 3",
   "language": "python",
   "name": "python3"
  },
  "language_info": {
   "codemirror_mode": {
    "name": "ipython",
    "version": 2
   },
   "file_extension": ".py",
   "mimetype": "text/x-python",
   "name": "python",
   "nbconvert_exporter": "python",
   "pygments_lexer": "ipython2",
   "version": "2.7.6"
  },
  "colab": {
   "name": "Copy of ficha.ipynb",
   "provenance": [],
   "collapsed_sections": []
  }
 },
 "cells": [
  {
   "cell_type": "markdown",
   "metadata": {
    "collapsed": false,
    "id": "C26ObGfATEe3"
   },
   "source": [
    "# Ficha de Trabalho 1"
   ]
  },
  {
   "cell_type": "markdown",
   "metadata": {
    "id": "riDihK9aYqwO"
   },
   "source": [
    "##  Exercício 1\n",
    "\n",
    "### a) Modelo dinâmico do processo em modo batch, para G, S, E, X e V."
   ]
  },
  {
   "cell_type": "markdown",
   "metadata": {
    "id": "hkPStNcU8PBl"
   },
   "source": [
    "$$\\frac{d[X]}{dt} = (\\mu_1 + \\mu_2 + \\mu_3) * [X]$$\n",
    "\n",
    "$$\\frac{d[S]}{dt} = -k_2 \\ \\mu_2 \\ [X] $$\n",
    "\n",
    "$$\\frac{d[G]}{dt} = -k_1 \\ \\mu_1 \\ [X]$$\n",
    "\n",
    "$$\\frac{d[E]}{dt} = (k_3 \\ \\mu_2 -k_4 \\ \\mu_3) * [X]$$\n",
    "\n",
    "$$\\frac{d[V]}{dt} = 0$$"
   ]
  },
  {
   "cell_type": "markdown",
   "metadata": {
    "id": "kCshkr_r9MDV"
   },
   "source": [
    "### b) Modelo dinâmico do processo em modo fed-batch, para G, S, E, X e V."
   ]
  },
  {
   "cell_type": "markdown",
   "metadata": {
    "id": "-9P_mFrJ9SuK"
   },
   "source": [
    "$$\\frac{d[X]}{dt} = (\\mu_1 + \\mu_2 + \\mu_3) * [X] -\\frac{Fe}{V}[X]$$\n",
    "\n",
    "$$\\frac{d[S]}{dt} = -k_2 \\ \\mu_3 \\ [X] +\\frac{Fe}{V}[S_e] -\\frac{Fe}{V}[S]$$\n",
    "\n",
    "$$\\frac{d[G]}{dt} = -k_1 \\ \\mu_1 \\ [X] -\\frac{Fe}{V}[G]$$\n",
    "\n",
    "$$\\frac{d[E]}{dt} = (k_3 \\ \\mu_2 -k_4 \\ \\mu_3) * [X] -\\frac{Fe}{V}[E]$$\n",
    "\n",
    "$$\\frac{d[V]}{dt} = Fe$$"
   ]
  },
  {
   "cell_type": "code",
   "metadata": {
    "pycharm": {
     "name": "#%%\n"
    },
    "id": "Lx5uCkcBTEfD"
   },
   "source": [
    "#imports\n",
    "import pandas as pd\n",
    "import numpy as np\n",
    "import matplotlib.pyplot as plt\n",
    "from scipy.spatial import distance as dst\n",
    "from scipy.integrate import ode\n",
    "from scipy.optimize import basinhopping\n",
    "from scipy.optimize import fsolve\n",
    "from sympy import symbols, Symbol\n",
    "import numdifftools as ndt"
   ],
   "execution_count": 2,
   "outputs": []
  },
  {
   "cell_type": "markdown",
   "metadata": {
    "collapsed": false,
    "id": "0rbsgC5LTEfF"
   },
   "source": [
    "## Exercício 2"
   ]
  },
  {
   "cell_type": "code",
   "metadata": {
    "pycharm": {
     "name": "#%%\n"
    },
    "id": "t5eDuCgaTEfF",
    "colab": {
     "base_uri": "https://localhost:8080/",
     "height": 132
    },
    "outputId": "58b2d98f-aee3-451e-c91f-1d48def3558b"
   },
   "source": [
    "# Model bl21\n",
    "def bl21(t, Y, k, miu_max, ks, fb=(), cs=()):\n",
    "\t\"\"\"\n",
    "\tThis will be the model for the strain BL21\n",
    "\n",
    "\t:param t: time; This argument should not be altered\n",
    "\t:param Y: initial conditions; array-like data structure (list, tuple, numpy array)\n",
    "\t:param K_params: Estimated K parameters; array-like data structure (list, tuple, numpy array)\n",
    "\t:param miu_max: Estimated K parameters; array-like data structure (list, tuple, numpy array)\n",
    "\t:param ks:\n",
    "\t:param fb: Optional set of  parameters that set the model into Fed-Batch mode if provided; array-like data structure (list, tuple, numpy array)\n",
    "\t:param cs: Optional set of  parameters that set the model into Chemostat mode if provided; array-like data structure (list, tuple, numpy array)\n",
    "\t:return: K * phi - (D (F/V) * variables) + zeros; note that numpy.dot() is the standard for matrices multiplication\n",
    "\n",
    "\t\"\"\"\n",
    "\t# Calculate per reaction miu\n",
    "\tm = [Y[1], Y[1], Y[2]]\n",
    "\tmiu = [miu_max[i]*(m[i]/(ks[i]+m[i])) for i in range(3)]\n",
    "\n",
    "\t# batch (basic) logic\n",
    "\tdef batch():\n",
    "\t\tdXdt = miu[0]*Y[0] + miu[1]*Y[0] + miu[2]*Y[0]\n",
    "\t\tdSdt = (-k[0])*miu[0]*Y[0] - k[1]*miu[1]*Y[0]\n",
    "\t\tdAdt = k[2]*miu[1]*Y[0] - k[3]*miu[2]*Y[0]\n",
    "\t\tdPdt = k[10]*miu[0]*Y[0]\n",
    "\t\tdVdt = 0\n",
    "\t\treturn [dXdt, dSdt, dAdt, dPdt, dVdt]\n",
    "\n",
    "  # decorator invocation for extra modes\n",
    "\tdef fedbatch(func):\n",
    "\t\tD = fb[0]/Y[4] # Fe/V\n",
    "\t\tdilution = [-D*Y[0], D*fb[1] -D*Y[1], -D*Y[2], -D*Y[3], fb[0]]\n",
    "\t\treturn np.add(func,dilution)\n",
    "\n",
    "\tdef quimiostato(func):\n",
    "\t\tD = cs[0]/Y[4] # Fin/V\n",
    "\t\tdilution = [-D*Y[0], D*cs[1]-D*Y[1], -D*Y[2], -D*Y[3], 0]\n",
    "\t\treturn np.add(func,dilution)\n",
    "\n",
    "\tif cs:\n",
    "\t\treturn quimiostato(batch())\n",
    "\telif fb:\n",
    "\t\treturn fedbatch(batch())\n",
    "\telse:\n",
    "\t\treturn batch()"
   ],
   "execution_count": 3,
   "outputs": []
  },
  {
   "cell_type": "markdown",
   "metadata": {
    "collapsed": false,
    "id": "G0-ExVWRTEfH"
   },
   "source": [
    "### a) Equações o modelo dinâmico do processo para X, S, A, P e V em modo descontínuo (batch)."
   ]
  },
  {
   "cell_type": "markdown",
   "metadata": {
    "id": "EIqWOE8W8_hv"
   },
   "source": [
    "$$\\frac{d[X]}{dt} = (\\mu_1 + \\mu_2 + \\mu_3) * [X]$$\n",
    "\n",
    "$$\\frac{d[S]}{dt} = - (k_1 \\ \\mu_1 + k_2 \\ \\mu_2) \\ [X]$$\n",
    "\n",
    "$$\\frac{d[A]}{dt} = (k_3 \\ \\mu_2 - k_4 \\ \\mu_3 ) \\ [X]$$\n",
    "\n",
    "$$\\frac{d[P]}{dt} = k_{11} \\ \\mu_1 \\ [X]$$\n",
    "\n",
    "$$\\frac{d[V]}{dt} = 0$$"
   ]
  },
  {
   "cell_type": "markdown",
   "metadata": {
    "pycharm": {
     "name": "#%% md\n"
    },
    "id": "M3Fx49g1TEfI",
    "colab": {
     "base_uri": "https://localhost:8080/",
     "height": 295
    },
    "outputId": "191b91fc-0fc8-4068-86f3-f0df5dc44e42"
   },
   "source": [
    "### b) Implementação do modelo em a) e a sua integração para um período de 3 horas."
   ]
  },
  {
   "cell_type": "code",
   "execution_count": 5,
   "outputs": [
    {
     "data": {
      "text/plain": "<Figure size 432x288 with 1 Axes>",
      "image/png": "[encoded data removed]"
     },
     "metadata": {
      "needs_background": "light"
     },
     "output_type": "display_data"
    }
   ],
   "source": [
    "# Initial conditions\n",
    "y0 = [3, 8, 0, 0, 4]\n",
    "\n",
    "# Parameters (Include all parameters required and make sure the function bl21 can unpack them all)\n",
    "params = [3.164, 25.22, 10.90, 6.382, 1.074, 11.89, 6.098, 1.283, 19.01, 6.576, 10.0]\n",
    "miu_max = [0.3, 0.6, 0.2]\n",
    "ks = [0.2, 0.2, 0.5]\n",
    "\n",
    "# Initial time\n",
    "t0 = 0\n",
    "\n",
    "# ode\n",
    "'''\n",
    "consider scipy.integrate.ode method, with the integrator lsoda and method bdf\n",
    "you should apply the initial values and parameters\n",
    "'''\n",
    "\n",
    "r = ode(bl21).set_integrator('lsoda', method='bdf')\n",
    "r.set_initial_value(y0, t0).set_f_params(params, miu_max, ks)\n",
    "\n",
    "# Final time and step\n",
    "t1 = 3\n",
    "dt = 0.01\n",
    "\n",
    "#Consider creating some storing variables (T and Y)\n",
    "T, Y = [], []\n",
    "\n",
    "# Solve ode for the time step\n",
    "'''\n",
    "see scipy docs on how to resolve the ode for the time steps\n",
    "append the results to the storing variables\n",
    "'''\n",
    "\n",
    "while r.successful() and r.t < t1:\n",
    "\tT.append(r.t+dt), Y.append(r.integrate(r.t+dt))\n",
    "\n",
    "# Plotting\n",
    "T = np.array([0]+T)\n",
    "Y = np.array([y0]+Y)\n",
    "labels = ['Biomassa - g/L', 'Glucose - g/L', 'Acetato - g/L', 'Proteína Recombinada - g/L', 'Volume - L']\n",
    "\n",
    "# Consider using matplotlib for plotting.\n",
    "fig, ax = plt.subplots()\n",
    "ax.plot(T, Y)\n",
    "ax.legend(labels)\n",
    "ax.set(xlabel='tempo (h)', ylabel='variação',title='Modelo do volume e concentrações usando o modelo bl21 em modo \"batch\"')\n",
    "ax.grid()\n",
    "fig.savefig(\"bl21_b_3h.png\", dpi=300)\n",
    "plt.show()"
   ],
   "metadata": {
    "collapsed": false,
    "pycharm": {
     "name": "#%%\n"
    }
   }
  },
  {
   "cell_type": "markdown",
   "metadata": {
    "collapsed": false,
    "id": "9Ul83STATEfL"
   },
   "source": [
    "### c) Equações o modelo dinâmico do processo para X, S, A, P e V em modo semi-contínuo (fed-batch)."
   ]
  },
  {
   "cell_type": "markdown",
   "metadata": {
    "id": "0MLCc5T19hmZ"
   },
   "source": [
    "$$\\frac{d[X]}{dt} = (\\mu_1 + \\mu_2 + \\mu_3) * [X] - \\frac{Fe}{V}[X]$$\n",
    "\n",
    "$$\\frac{d[S]}{dt} = - (k_1 \\ \\mu_1 + k_2 \\ \\mu_2) \\ [X] + \\frac{Fe}{V}[S_e] - \\frac{Fe}{V}[S]$$\n",
    "\n",
    "$$\\frac{d[A]}{dt} = (k_3 \\ \\mu_2 - k_4 \\ \\mu_3 ) \\ [X] - \\frac{Fe}{V}[A]$$\n",
    "\n",
    "$$\\frac{d[P]}{dt} = k_{11} \\ \\mu_1 \\ [X] - \\frac{Fe}{V}[P]$$\n",
    "\n",
    "$$\\frac{d[V]}{dt} = Fe$$"
   ]
  },
  {
   "cell_type": "markdown",
   "source": [
    "### d) Implementação do modelo em c) e a sua integração para um período de 25 horas."
   ],
   "metadata": {
    "collapsed": false,
    "pycharm": {
     "name": "#%% md\n"
    }
   }
  },
  {
   "cell_type": "code",
   "metadata": {
    "pycharm": {
     "name": "#%%\n"
    },
    "id": "TK_dqf60TEfM",
    "colab": {
     "base_uri": "https://localhost:8080/",
     "height": 295
    },
    "outputId": "2f0595a0-0e33-4463-8a1d-f839f827d37a"
   },
   "source": [
    "# Initial conditions\n",
    "y0 = [2, 0, 0, 0, 3]\n",
    "\n",
    "# Parameters (Include all parameters required and make sure the function bl21 can unpack them all)\n",
    "params = [3.164, 25.22, 10.90, 6.382, 1.074, 11.89, 6.098, 1.283, 19.01, 6.576, 10.0]\n",
    "miu_max = [0.3, 0.6, 0.2]\n",
    "ks = [0.2, 0.2, 0.5]\n",
    "fb_params = [0.5, 300]\n",
    "\n",
    "# Initial time\n",
    "t0 = 0\n",
    "\n",
    "# ode\n",
    "'''\n",
    "consider scipy.integrate.ode method, with the integrator lsoda and method bdf\n",
    "you should apply the initial values and parameters\n",
    "'''\n",
    "\n",
    "r = ode(bl21).set_integrator('lsoda', method='bdf')\n",
    "r.set_initial_value(y0, t0).set_f_params(params, miu_max, ks, fb_params)\n",
    "\n",
    "# Final time and step\n",
    "t1 = 25\n",
    "dt = 0.01\n",
    "\n",
    "#Consider creating some storing variables (T and Y)\n",
    "T, Y = [], []\n",
    "\n",
    "# Solve ode for the time step\n",
    "'''\n",
    "see scipy docs on how to resolve the ode for the time steps\n",
    "append the results to the storing variables\n",
    "'''\n",
    "while r.successful() and r.t < t1:\n",
    "\tT.append(r.t+dt), Y.append(r.integrate(r.t+dt))\n",
    "\n",
    "# Plotting\n",
    "T = np.array([0]+T)\n",
    "Y = np.array([y0]+Y)\n",
    "labels = ['Biomassa - g/L', 'Glucose - g/L', 'Acetato - g/L', 'Proteína Recombinada - g/L', 'Volume - L']\n",
    "\n",
    "# Consider using matplotlib for plotting.\n",
    "fig, ax = plt.subplots()\n",
    "ax.plot(T, Y)\n",
    "ax.legend(labels)\n",
    "ax.set(xlabel='tempo (h)', ylabel='variação',title='Modelo do volume e concentrações usando o modelo bl21 em modo \"fed-batch\"')\n",
    "ax.grid()\n",
    "fig.savefig(\"bl21_fb_25h.png\", dpi=300)\n",
    "plt.show()"
   ],
   "execution_count": 7,
   "outputs": [
    {
     "data": {
      "text/plain": "<Figure size 432x288 with 1 Axes>",
      "image/png": "[encoded data removed]"
     },
     "metadata": {
      "needs_background": "light"
     },
     "output_type": "display_data"
    }
   ]
  },
  {
   "cell_type": "markdown",
   "metadata": {
    "collapsed": false,
    "id": "PaJm1KEDTEfN"
   },
   "source": [
    "## e)"
   ]
  },
  {
   "cell_type": "code",
   "metadata": {
    "pycharm": {
     "name": "#%%\n"
    },
    "id": "mVO2eImYTEfO"
   },
   "source": [
    "# Criar modelo para a bactéria JM109\n",
    "def jm109(t, Y, params):\n",
    "  \"\"\"\n",
    "\n",
    "  This will be the model for the strain JM109 which is similar to the BL21, but it should have slight modifications\n",
    "\n",
    "  :param t: time; This argument should not be altered\n",
    "  :param Y: initial conditions; array-like data structure (list, tuple, numpy array)\n",
    "  :param params: parameters; array-like data structure (list, tuple, numpy array) - NOTE THAT THESE ARGUMENT MUST\n",
    "  CONTAIN ONLY AND ONLY THOSE PARAMETERS TO BE ESTIMATED. The remain parameters should be hardcoded within the\n",
    "  function\n",
    "  :return: K * phi - (D * variables) + zeros; note that numpy.dot() is the standard for matrices multiplication\n",
    "\n",
    "  \"\"\"\n",
    "\t# operations mode\n",
    "\n",
    "  k = [params[0], 25.22, 10.90, 6.382, 1.074, 11.89, 6.098, 1.283, 19.01, 6.576, 10.0]\n",
    "  miu_max = [params[1], 0.6, 0.2]\n",
    "  ks = [params[2], 0.2, 0.5]\n",
    "  fb = [0.5, 300]\n",
    "\n",
    "  return bl21(t, Y, k, miu_max, ks, fb)\n"
   ],
   "execution_count": 10,
   "outputs": []
  },
  {
   "cell_type": "code",
   "metadata": {
    "pycharm": {
     "name": "#%%\n"
    },
    "id": "bXpct671TEfP"
   },
   "source": [
    "# Criar função para estimação dos parâmetros\n",
    "def estimate(params):\n",
    "  \"\"\"\n",
    "  This will be our estimate function that works out as the calculation of the difference between the experimental\n",
    "  and predicted values and can be used as the objective function\n",
    "\n",
    "  :param params: parameters; array-like data structure (list, tuple, numpy array) for the ode\n",
    "  :return: the error between measured and predicted data, i.e. difS + difX + difA + difV\n",
    "  \"\"\"\n",
    "\n",
    "  # Consider using global to access and change global variables outside of this function\n",
    "  # Otherwise, model, time, initial conditions and experimental data can be hardcoded here within the function\n",
    "  # Nevertheless, use always the global Y (array to store the results) to re-write this variable with new results\n",
    "  global model\n",
    "  global t\n",
    "  global dados_exp\n",
    "  global y0\n",
    "  global Y\n",
    "\n",
    "  # timespan (initial, final, step)\n",
    "  t0 = t[0]\n",
    "\n",
    "  # Initial conditions\n",
    "  y0=y0\n",
    "\n",
    "  # ode\n",
    "  # consider scipy.integrate.ode method, with the integrator lsoda and method bdf\n",
    "  # you should apply the initial values and parameters\n",
    "\n",
    "  # Final time and step\n",
    "  t1 = t[1]\n",
    "  dt = t[2]\n",
    "\n",
    "  # Using the global storing variable Y\n",
    "\n",
    "  # Solve ode for the time step\n",
    "  # see scipy docs on how to resolve the ode for the time steps\n",
    "  # append the results to the Y storing variable\n",
    "  r = ode(model).set_integrator('lsoda', method='bdf')\n",
    "  r.set_initial_value(y0, t0).set_f_params(params)\n",
    "  \n",
    "  a = 0\n",
    "  while r.successful() and r.t < t1:\n",
    "    a += 1\n",
    "    Y[a,:]=r.integrate(r.t+dt)\n",
    "\n",
    "  # Remove the set o P concentrations values calculated from the model, as we have no experimental data to confirm it\n",
    "  \n",
    "  y_comparable = np.delete(Y,3,1)\n",
    "  \n",
    "  # Consider the metrics to calculate the error between experimental and predicted data\n",
    "  return sum([dst.sqeuclidean(dados_exp.iloc[:,n+1], y_comparable[:,n]) for n in range(4)])"
   ],
   "execution_count": 14,
   "outputs": []
  },
  {
   "cell_type": "code",
   "metadata": {
    "pycharm": {
     "name": "#%%\n"
    },
    "id": "ESq3ZBLATEfQ"
   },
   "source": [
    "# Bounds\n",
    "# Consider using the following class for setting the Simulated Annealing bounds\n",
    "class Bounds(object):\n",
    "\n",
    "  def __init__(self, LB=None, UB=None):\n",
    "    if LB is None:\n",
    "      LB = [0, 0, 0]\n",
    "    if UB is None:\n",
    "      UB = [4, 4, 4]\n",
    "\n",
    "    self.lower_bound = np.array(LB)\n",
    "    self.upper_bound = np.array(UB)\n",
    "\n",
    "  def __call__(self, **kwargs):\n",
    "    x = kwargs[\"x_new\"]\n",
    "    tmax = bool(np.all(x <= self.upper_bound))\n",
    "    tmin = bool(np.all(x >= self.lower_bound))\n",
    "\n",
    "    return tmax and tmin"
   ],
   "execution_count": 22,
   "outputs": []
  },
  {
   "cell_type": "code",
   "metadata": {
    "pycharm": {
     "name": "#%%\n"
    },
    "id": "rmOu9BT2TEfQ",
    "colab": {
     "base_uri": "https://localhost:8080/",
     "height": 228
    },
    "outputId": "77ca6c52-d1b5-4cec-d0c8-ceaf49ee5d07"
   },
   "source": [
    "model = jm109\n",
    "t = (0, 20, 0.5)\n",
    "dados_exp = pd.read_csv(\"dados_exp.csv\")\n",
    "y0 = [1, 0, 0, 0, 3]\n",
    "Y = np.zeros((41,5))\n",
    "Y[0,:] = y0\n",
    "\n",
    "#Bounds\n",
    "LB = [0, 0, 0]\n",
    "UB = [4, 4, 4]\n",
    "bounds = Bounds(LB, UB)\n",
    "\n",
    "# initial guess, that is the initial values for the parameters to be estimated. It can be those available in the pdf\n",
    "x0 = [3.164, 0.3, 0.2]\n",
    "\n",
    "# Simulated Annealing\n",
    "# consider scipy.optimize.basinhopping method, with the method BFGS, niter 200, seed 1 and the respective bounds.\n",
    "# To perform some testing consider lowering the number of iterations to 10, as SA can take a while\n",
    "\n",
    "minimizer_kwargs = {\"method\": \"BFGS\"}\n",
    "ret = basinhopping(estimate, x0, minimizer_kwargs=minimizer_kwargs,niter=200, accept_test=bounds, seed=1)"
   ],
   "execution_count": 19,
   "outputs": [
    {
     "name": "stderr",
     "output_type": "stream",
     "text": [
      "/home/dm/anaconda3/envs/MBINF_MPB_projeto/lib/python3.8/site-packages/scipy/integrate/_ode.py:1352: UserWarning: lsoda: Excess work done on this call (perhaps wrong Dfun type).\n",
      "  warnings.warn('{:s}: {:s}'.format(self.__class__.__name__,\n",
      "/home/dm/anaconda3/envs/MBINF_MPB_projeto/lib/python3.8/site-packages/scipy/integrate/_ode.py:1352: UserWarning: lsoda: Excess work done on this call (perhaps wrong Dfun type).\n",
      "  warnings.warn('{:s}: {:s}'.format(self.__class__.__name__,\n",
      "/home/dm/anaconda3/envs/MBINF_MPB_projeto/lib/python3.8/site-packages/scipy/integrate/_ode.py:1352: UserWarning: lsoda: Excess work done on this call (perhaps wrong Dfun type).\n",
      "  warnings.warn('{:s}: {:s}'.format(self.__class__.__name__,\n",
      "/home/dm/anaconda3/envs/MBINF_MPB_projeto/lib/python3.8/site-packages/scipy/integrate/_ode.py:1352: UserWarning: lsoda: Excess work done on this call (perhaps wrong Dfun type).\n",
      "  warnings.warn('{:s}: {:s}'.format(self.__class__.__name__,\n",
      "/home/dm/anaconda3/envs/MBINF_MPB_projeto/lib/python3.8/site-packages/scipy/integrate/_ode.py:1352: UserWarning: lsoda: Excess work done on this call (perhaps wrong Dfun type).\n",
      "  warnings.warn('{:s}: {:s}'.format(self.__class__.__name__,\n",
      "/home/dm/anaconda3/envs/MBINF_MPB_projeto/lib/python3.8/site-packages/scipy/integrate/_ode.py:1352: UserWarning: lsoda: Excess work done on this call (perhaps wrong Dfun type).\n",
      "  warnings.warn('{:s}: {:s}'.format(self.__class__.__name__,\n",
      "/home/dm/anaconda3/envs/MBINF_MPB_projeto/lib/python3.8/site-packages/scipy/optimize/_numdiff.py:557: RuntimeWarning: invalid value encountered in subtract\n",
      "  df = fun(x) - f0\n",
      "/home/dm/anaconda3/envs/MBINF_MPB_projeto/lib/python3.8/site-packages/scipy/integrate/_ode.py:1352: UserWarning: lsoda: Excess work done on this call (perhaps wrong Dfun type).\n",
      "  warnings.warn('{:s}: {:s}'.format(self.__class__.__name__,\n",
      "/home/dm/anaconda3/envs/MBINF_MPB_projeto/lib/python3.8/site-packages/scipy/integrate/_ode.py:1352: UserWarning: lsoda: Excess work done on this call (perhaps wrong Dfun type).\n",
      "  warnings.warn('{:s}: {:s}'.format(self.__class__.__name__,\n",
      "/home/dm/anaconda3/envs/MBINF_MPB_projeto/lib/python3.8/site-packages/scipy/integrate/_ode.py:1352: UserWarning: lsoda: Excess work done on this call (perhaps wrong Dfun type).\n",
      "  warnings.warn('{:s}: {:s}'.format(self.__class__.__name__,\n",
      "/home/dm/anaconda3/envs/MBINF_MPB_projeto/lib/python3.8/site-packages/scipy/integrate/_ode.py:1352: UserWarning: lsoda: Excess work done on this call (perhaps wrong Dfun type).\n",
      "  warnings.warn('{:s}: {:s}'.format(self.__class__.__name__,\n",
      "/home/dm/anaconda3/envs/MBINF_MPB_projeto/lib/python3.8/site-packages/scipy/integrate/_ode.py:1352: UserWarning: lsoda: Excess work done on this call (perhaps wrong Dfun type).\n",
      "  warnings.warn('{:s}: {:s}'.format(self.__class__.__name__,\n",
      "/home/dm/anaconda3/envs/MBINF_MPB_projeto/lib/python3.8/site-packages/scipy/integrate/_ode.py:1352: UserWarning: lsoda: Excess work done on this call (perhaps wrong Dfun type).\n",
      "  warnings.warn('{:s}: {:s}'.format(self.__class__.__name__,\n",
      "/home/dm/anaconda3/envs/MBINF_MPB_projeto/lib/python3.8/site-packages/scipy/integrate/_ode.py:1352: UserWarning: lsoda: Excess work done on this call (perhaps wrong Dfun type).\n",
      "  warnings.warn('{:s}: {:s}'.format(self.__class__.__name__,\n",
      "/home/dm/anaconda3/envs/MBINF_MPB_projeto/lib/python3.8/site-packages/scipy/integrate/_ode.py:1352: UserWarning: lsoda: Excess work done on this call (perhaps wrong Dfun type).\n",
      "  warnings.warn('{:s}: {:s}'.format(self.__class__.__name__,\n",
      "/home/dm/anaconda3/envs/MBINF_MPB_projeto/lib/python3.8/site-packages/scipy/optimize/_numdiff.py:557: RuntimeWarning: invalid value encountered in subtract\n",
      "  df = fun(x) - f0\n",
      "/home/dm/anaconda3/envs/MBINF_MPB_projeto/lib/python3.8/site-packages/scipy/integrate/_ode.py:1352: UserWarning: lsoda: Excess work done on this call (perhaps wrong Dfun type).\n",
      "  warnings.warn('{:s}: {:s}'.format(self.__class__.__name__,\n",
      "/home/dm/anaconda3/envs/MBINF_MPB_projeto/lib/python3.8/site-packages/scipy/integrate/_ode.py:1352: UserWarning: lsoda: Excess work done on this call (perhaps wrong Dfun type).\n",
      "  warnings.warn('{:s}: {:s}'.format(self.__class__.__name__,\n",
      "/home/dm/anaconda3/envs/MBINF_MPB_projeto/lib/python3.8/site-packages/scipy/integrate/_ode.py:1352: UserWarning: lsoda: Excess work done on this call (perhaps wrong Dfun type).\n",
      "  warnings.warn('{:s}: {:s}'.format(self.__class__.__name__,\n",
      "/home/dm/anaconda3/envs/MBINF_MPB_projeto/lib/python3.8/site-packages/scipy/integrate/_ode.py:1352: UserWarning: lsoda: Excess work done on this call (perhaps wrong Dfun type).\n",
      "  warnings.warn('{:s}: {:s}'.format(self.__class__.__name__,\n",
      "/home/dm/anaconda3/envs/MBINF_MPB_projeto/lib/python3.8/site-packages/scipy/integrate/_ode.py:1352: UserWarning: lsoda: Excess work done on this call (perhaps wrong Dfun type).\n",
      "  warnings.warn('{:s}: {:s}'.format(self.__class__.__name__,\n",
      "/home/dm/anaconda3/envs/MBINF_MPB_projeto/lib/python3.8/site-packages/scipy/integrate/_ode.py:1352: UserWarning: lsoda: Excess work done on this call (perhaps wrong Dfun type).\n",
      "  warnings.warn('{:s}: {:s}'.format(self.__class__.__name__,\n",
      "/home/dm/anaconda3/envs/MBINF_MPB_projeto/lib/python3.8/site-packages/scipy/integrate/_ode.py:1352: UserWarning: lsoda: Excess work done on this call (perhaps wrong Dfun type).\n",
      "  warnings.warn('{:s}: {:s}'.format(self.__class__.__name__,\n"
     ]
    }
   ]
  },
  {
   "cell_type": "code",
   "metadata": {
    "colab": {
     "base_uri": "https://localhost:8080/"
    },
    "id": "cG7FLdObmBu0",
    "outputId": "13290de3-975a-4ebd-e1fd-00c0b39c9365"
   },
   "source": [
    "print(f\"global minimum: k1 = {ret.x[0]}, miu_max1 = {ret.x[1]}, ks1 = {ret.x[2]}\")"
   ],
   "execution_count": 24,
   "outputs": [
    {
     "name": "stdout",
     "output_type": "stream",
     "text": [
      "global minimum: k1 = 41.12039287713514, miu_max1 = 0.126692533253695, ks1 = 1.1062745632758462\n"
     ]
    }
   ]
  },
  {
   "cell_type": "code",
   "metadata": {
    "colab": {
     "base_uri": "https://localhost:8080/",
     "height": 295
    },
    "id": "5FSn-yR2VXIj",
    "outputId": "3ad4671f-1dd4-4e38-d12f-11df1d75ab9d"
   },
   "source": [
    "# Consider using matplotlib for plotting.\n",
    "T = [x * 0.5 for x in range(0, 41)]\n",
    "labels = ['Biomassa - g/L', 'Glucose - g/L', 'Acetato - g/L', 'Volume - L']\n",
    "\n",
    "# Consider using matplotlib for plotting.\n",
    "fig, ax = plt.subplots()\n",
    "ax.plot(T, dados_exp.iloc[:,1:5])\n",
    "ax.legend(labels)\n",
    "ax.set(xlabel='tempo (h)', ylabel='variação',title='Volume e concentrações experimentais para a estirpe JM109 em \"fed-batch\"')\n",
    "ax.grid()\n",
    "fig.savefig(\"jm109_exp.png\", dpi=300)\n",
    "fig.savefig(\"jm109_exp.svg\")\n",
    "plt.show()"
   ],
   "execution_count": 23,
   "outputs": [
    {
     "data": {
      "text/plain": "<Figure size 432x288 with 1 Axes>",
      "image/png": "[encoded data removed]"
     },
     "metadata": {
      "needs_background": "light"
     },
     "output_type": "display_data"
    }
   ]
  },
  {
   "cell_type": "code",
   "metadata": {
    "colab": {
     "base_uri": "https://localhost:8080/",
     "height": 295
    },
    "id": "tAMIwXVecdJX",
    "outputId": "3499ca80-084a-42b5-939a-3f3f2c31136f"
   },
   "source": [
    "# Consider using matplotlib for plotting.\n",
    "T = [x * 0.5 for x in range(0, 41)]\n",
    "labels = ['Biomassa - g/L', 'Glucose - g/L', 'Acetato - g/L', 'Proteína Recombinada - g/L', 'Volume - L']\n",
    "\n",
    "# Consider using matplotlib for plotting.\n",
    "fig, ax = plt.subplots()\n",
    "ax.plot(T, Y[:,0])\n",
    "ax.legend(labels)\n",
    "ax.set(xlabel='tempo (h)', ylabel='variação',title='Modelo do volume e concentrações usando o modelo JM109 em modo \"fed-batch\"')\n",
    "ax.grid()\n",
    "fig.savefig(\"jm109_model.png\", dpi=300)\n",
    "fig.savefig(\"jm109_model.svg\")\n",
    "plt.show()"
   ],
   "execution_count": 20,
   "outputs": [
    {
     "data": {
      "text/plain": "<Figure size 432x288 with 1 Axes>",
      "image/png": "[encoded data removed]"
     },
     "metadata": {
      "needs_background": "light"
     },
     "output_type": "display_data"
    }
   ]
  },
  {
   "cell_type": "markdown",
   "metadata": {
    "collapsed": false,
    "id": "Fj32sbgHTEfQ"
   },
   "source": [
    "## f) Sensibilidades ao longo do tempo das variáveis X e S aos parâmetros k1, μmax1 e Ks1."
   ]
  },
  {
   "cell_type": "code",
   "metadata": {
    "pycharm": {
     "name": "#%%\n"
    },
    "id": "d3p3LG64TEfR"
   },
   "source": [
    "y0 = [ 1, 0, 0, 0, 3] # PR Has been removed as it is not useful, it has not been provided in the experimentally produced dataset\n",
    "\n",
    "Fe, Se = 0.5, 300\n",
    "\n",
    "# params = params\n",
    "k1, umax1, ks1 = 3.164, 0.3, 0.2\n",
    "params = [k1, umax1, ks1]\n",
    "\n",
    "# k parameters except k1\n",
    "k2 = 25.22\n",
    "k3 = 10.90\n",
    "k4 = 6.382\n",
    "k11 = 10.0\n",
    "\n",
    "# umax's except umax1\n",
    "umax2 = 0.6\n",
    "umax3 = 0.2\n",
    "\n",
    "# Ks's except ks1\n",
    "ks2 = 0.2\n",
    "ks3 = 0.5\n",
    "\n",
    "# Consider using sympy.symbols to create algebric variables to be used on the derivatives (X, S, k1, ks1, ...)\n",
    "(X, S, A, V, k1, ks1, umax1) = symbols('X, S, A, V, k1, ks1, umax1')\n",
    "\n",
    "# mu's\n",
    "miu1 = umax1*S/(S+ks1)\n",
    "miu2 = umax2*S/(S+ks2)\n",
    "miu3 = umax3*A/(A+ks3)\n",
    "\n",
    "# ordinary differential equations DX and DS\n",
    "dXdt = miu1*X + miu2*X + miu3*X - (Fe/V)*X\n",
    "dSdt = (-k1)*miu1*X - k2*miu2*X - (Fe/V)*S + (Fe/V)*Se\n",
    "\n",
    "# perform the derivatives in order at k1, umax1 and ks1. Consider using sympy's method: diff\n",
    "# dXk1 = sp.diff(dxdt, k1)\n",
    "from sympy import diff\n",
    "\n",
    "dXk1 = diff(dXdt, k1)\n",
    "dXumax1 = diff(dXdt, umax1)\n",
    "dXks1 = diff(dXdt, ks1)\n",
    "\n",
    "dSk1 = diff(dSdt, k1)\n",
    "dSumax1 = diff(dSdt, umax1)\n",
    "dSks1 = diff(dSdt, ks1)\n",
    "\n",
    "# transform the derivates expression into lambda functions to calculate the calculate the sensitivity values of each\n",
    "# derivate form. Consider using sympy lambdify where the args of the lambda function are the algebric variables in the\n",
    "# derivate expression. Choose the numpy module for the calculations\n",
    "from sympy.utilities.lambdify import lambdify\n",
    "dXk1 = lambdify((X,S,k1,ks1, umax1), dXk1, \"numpy\")\n",
    "dXumax1 = lambdify((X,S,k1,ks1, umax1), dXumax1, \"numpy\")\n",
    "dXks1 = lambdify((X,S,k1,ks1, umax1), dXks1, \"numpy\")\n",
    "\n",
    "dSk1 = lambdify((X,S,k1,ks1, umax1), dSk1, \"numpy\")\n",
    "dSumax1 = lambdify((X,S,k1,ks1, umax1), dSumax1, \"numpy\")\n",
    "dSks1 = lambdify((X,S,k1,ks1, umax1), dSks1, \"numpy\")\n",
    "\n",
    "\n",
    "# t = timespan\n",
    "# Final time and step\n",
    "t0 = 0\n",
    "t1 = 20\n",
    "dt = 0.5\n",
    "\n",
    "# ode\n",
    "# consider scipy.integrate.ode method, with the integrator lsoda and method bdf\n",
    "# you should apply the initial values and parameters\n",
    "\n",
    "r = ode(jm109).set_integrator('lsoda', method='bdf')\n",
    "r.set_initial_value(y0, t0).set_f_params(params)\n",
    "\n",
    "\n",
    "# Using the global storing variable Y\n",
    "T = [0]\n",
    "Y = np.zeros((41,5))\n",
    "Y[0,:] = y0\n",
    "\n",
    "# Solve ode for the time step\n",
    "# see scipy docs on how to resolve the ode for the time steps\n",
    "# append the results to the Y storing variable\n",
    "\n",
    "a = 0\n",
    "while r.successful() and r.t < t1:\n",
    "    T.append(r.t+dt) #r.t\n",
    "    a += 1\n",
    "    Y[a,:]=r.integrate(r.t+dt)\n",
    "\n",
    "# create the dx and ds arrays executing the lambda function for the X, S, k1, umax1, ks1 values\n",
    "k1, umax1, ks1= 3.164, 0.3, 0.2\n",
    "\n",
    "dX = np.zeros((41,3))\n",
    "dX[:,0] = dXk1(Y[:,0],Y[:,1],k1, umax1, ks1)\n",
    "dX[:,1] = dXumax1(Y[:,0],Y[:,1],k1, umax1, ks1)\n",
    "dX[:,2] = dXks1(Y[:,0],Y[:,1],k1, umax1, ks1)\n",
    "\n",
    "dS = np.zeros((41,3))\n",
    "dS[:,0] = dSk1(Y[:,0],Y[:,1],k1, umax1, ks1)\n",
    "dS[:,1] = dSumax1(Y[:,0],Y[:,1],k1, umax1, ks1)\n",
    "dS[:,2] = dSks1(Y[:,0],Y[:,1],k1, umax1, ks1)\n",
    "\n",
    "\n",
    "# Consider using matplotlib for plotting.\n",
    "labels = ['dXk1', 'dXumax1', 'dXks1']\n",
    "fig, ax = plt.subplots()\n",
    "ax.plot(T, dX)\n",
    "ax.legend(labels)\n",
    "ax.set(xlabel='tempo (h)', ylabel='sensibilidade',title='Sensibilidade da variável X aos parâmetros k1, umax1 e ks1')\n",
    "ax.grid()\n",
    "fig.savefig(\"jm109_x_sense.png\", dpi=300)\n",
    "plt.show()\n",
    "\n",
    "labels = ['dSk1', 'dSumax1', 'dSks1']\n",
    "fig, ax = plt.subplots()\n",
    "ax.plot(T, dS)\n",
    "ax.legend(labels)\n",
    "ax.set(xlabel='tempo (h)', ylabel='sensibilidade',title='Sensibilidade da variável S aos parâmetros k1, umax1 e ks1')\n",
    "ax.grid()\n",
    "fig.savefig(\"jm109_s_sense.png\", dpi=300)\n",
    "plt.show()"
   ],
   "execution_count": 29,
   "outputs": [
    {
     "ename": "NameError",
     "evalue": "name 'jm109' is not defined",
     "output_type": "error",
     "traceback": [
      "\u001B[0;31m---------------------------------------------------------------------------\u001B[0m",
      "\u001B[0;31mNameError\u001B[0m                                 Traceback (most recent call last)",
      "\u001B[0;32m<ipython-input-29-3ec77373e0cb>\u001B[0m in \u001B[0;36m<module>\u001B[0;34m\u001B[0m\n\u001B[1;32m     68\u001B[0m \u001B[0;31m# you should apply the initial values and parameters\u001B[0m\u001B[0;34m\u001B[0m\u001B[0;34m\u001B[0m\u001B[0;34m\u001B[0m\u001B[0m\n\u001B[1;32m     69\u001B[0m \u001B[0;34m\u001B[0m\u001B[0m\n\u001B[0;32m---> 70\u001B[0;31m \u001B[0mr\u001B[0m \u001B[0;34m=\u001B[0m \u001B[0mode\u001B[0m\u001B[0;34m(\u001B[0m\u001B[0mjm109\u001B[0m\u001B[0;34m)\u001B[0m\u001B[0;34m.\u001B[0m\u001B[0mset_integrator\u001B[0m\u001B[0;34m(\u001B[0m\u001B[0;34m'lsoda'\u001B[0m\u001B[0;34m,\u001B[0m \u001B[0mmethod\u001B[0m\u001B[0;34m=\u001B[0m\u001B[0;34m'bdf'\u001B[0m\u001B[0;34m)\u001B[0m\u001B[0;34m\u001B[0m\u001B[0;34m\u001B[0m\u001B[0m\n\u001B[0m\u001B[1;32m     71\u001B[0m \u001B[0mr\u001B[0m\u001B[0;34m.\u001B[0m\u001B[0mset_initial_value\u001B[0m\u001B[0;34m(\u001B[0m\u001B[0my0\u001B[0m\u001B[0;34m,\u001B[0m \u001B[0mt0\u001B[0m\u001B[0;34m)\u001B[0m\u001B[0;34m.\u001B[0m\u001B[0mset_f_params\u001B[0m\u001B[0;34m(\u001B[0m\u001B[0mparams\u001B[0m\u001B[0;34m)\u001B[0m\u001B[0;34m\u001B[0m\u001B[0;34m\u001B[0m\u001B[0m\n\u001B[1;32m     72\u001B[0m \u001B[0;34m\u001B[0m\u001B[0m\n",
      "\u001B[0;31mNameError\u001B[0m: name 'jm109' is not defined"
     ]
    }
   ]
  },
  {
   "cell_type": "markdown",
   "metadata": {
    "collapsed": false,
    "id": "EDbMIpxqTEfR"
   },
   "source": [
    "## g)\n",
    "\n",
    "Com base nos resultados anteriores podemos confirmar que tanto na derivada de X e S em função de k1, esta é proxima ou igual de 0 no periodo estudado. Como tal podemos remover este do modelo sem causar alterações consideraveis dos valores finais.\n",
    "\n",
    "$$\\frac{d[X]}{dt} = (\\mu_1 + \\mu_2 + \\mu_3) * [X] - \\frac{Fe}{V}[X]$$\n",
    "\n",
    "$$\\frac{d[S]}{dt} = - (mu_1 + k_2 \\ \\mu_2) \\ [X] + \\frac{Fe}{V}[S_e] - \\frac{Fe}{V}[S]$$\n",
    "\n",
    "$$\\frac{d[A]}{dt} = (k_3 \\ \\mu_2 - k_4 \\ \\mu_3 ) \\ [X] - \\frac{Fe}{V}[A]$$\n",
    "\n",
    "$$\\frac{d[P]}{dt} = k_{11} \\ \\mu_1 \\ [X] - \\frac{Fe}{V}[P]$$\n",
    "\n",
    "$$\\frac{d[V]}{dt} = Fe$$\n",
    "\n",
    "O modelo, porém é mais sensível aos outros valores. Sendo que estes têm comportamentos contrários para a variável X e S. Isto faz sentido, uma vez que o que leva a um aumento de consumo do substrato, é responsável também pelo o aumento do produto."
   ]
  },
  {
   "cell_type": "code",
   "execution_count": null,
   "outputs": [],
   "source": [
    "# Initial conditions\n",
    "y0 = [2, 0, 0, 0, 3]\n",
    "\n",
    "# Parameters (Include all parameters required and make sure the function bl21 can unpack them all)\n",
    "k1, umax1, ks1 = 3.164, 0.3, 0.2\n",
    "params = [k1, umax1, ks1]\n",
    "\n",
    "# Initial time\n",
    "t0 = 0\n",
    "\n",
    "# ode\n",
    "'''\n",
    "consider scipy.integrate.ode method, with the integrator lsoda and method bdf\n",
    "you should apply the initial values and parameters\n",
    "'''\n",
    "\n",
    "r = ode(jm109).set_integrator('lsoda', method='bdf')\n",
    "r.set_initial_value(y0, t0).set_f_params(params, miu_max, ks, fb_params)\n",
    "\n",
    "# Final time and step\n",
    "t1 = 20\n",
    "dt = 0.01\n",
    "\n",
    "#Consider creating some storing variables (T and Y)\n",
    "T, Y = [], []\n",
    "\n",
    "# Solve ode for the time step\n",
    "'''\n",
    "see scipy docs on how to resolve the ode for the time steps\n",
    "append the results to the storing variables\n",
    "'''\n",
    "while r.successful() and r.t < t1:\n",
    "\tT.append(r.t+dt), Y.append(r.integrate(r.t+dt))\n",
    "\n",
    "# Plotting\n",
    "T = np.array([0]+T)\n",
    "Y = np.array([y0]+Y)\n",
    "labels = ['Biomassa - g/L', 'Glucose - g/L', 'Acetato - g/L', 'Proteína Recombinada - g/L', 'Volume - L']\n",
    "\n",
    "# Consider using matplotlib for plotting.\n",
    "fig, ax = plt.subplots()\n",
    "ax.plot(T, Y)\n",
    "ax.legend(labels)\n",
    "ax.set(xlabel='tempo (h)', ylabel='variação',title='Modelo de JM109 reduzido')\n",
    "ax.grid()\n",
    "fig.savefig(\"jm109_red.png\", dpi=300)\n",
    "plt.show()"
   ],
   "metadata": {
    "collapsed": false,
    "pycharm": {
     "name": "#%%\n"
    }
   }
  },
  {
   "cell_type": "markdown",
   "metadata": {
    "collapsed": false,
    "id": "gRkwq2m_TEfR"
   },
   "source": [
    "## h)"
   ]
  },
  {
   "cell_type": "code",
   "metadata": {
    "pycharm": {
     "name": "#%%\n"
    },
    "id": "nmNZy9q_TEfR"
   },
   "source": [
    "def cs_bl21_model(y0):\n",
    "\t# Condicoes iniciais\n",
    "\tX = y0[0]\n",
    "\tS = y0[1]\n",
    "\tA = y0[2]\n",
    "\tV = y0[3]\n",
    "\n",
    "\t# Parametros\n",
    "\tS0 = 300\n",
    "\tFe = 0.5\n",
    "\tFs = 0.5\n",
    "\tK1,K2,K3,K4,Ks1,Ks2,Ks3 = [3.164, 25.22, 10.90, 6.382, 0.2, 0.2, 0.5]\n",
    "\tumax1,umax2,umax3 = [0.3, 0.6, 0.2]\n",
    "\n",
    "\t#Equacoes\n",
    "\tu1=umax1*(S/(Ks1+S))\n",
    "\tu2=umax2*(S/(Ks2+S))\n",
    "\tu3=umax3*(A/(Ks3+A))\n",
    "\treturn np.array([u1*X+u2*X+u3*X, (-K1)*u1*X - K2*u2*X ,K3*u2*X - K4*u3*X, Fe-Fs])\n",
    "\n",
    "# Solve for no biomass\n",
    "y0 = np.array([0,1,1,6])\n",
    "a = fsolve(cs_bl21_model, y0)\n",
    "print(a)\n",
    "\n",
    "y0 = np.array([1,1,1,6])\n",
    "b = fsolve(cs_bl21_model, y0)\n",
    "print(b)"
   ],
   "execution_count": 27,
   "outputs": [
    {
     "name": "stdout",
     "output_type": "stream",
     "text": [
      "[0. 1. 1. 6.]\n",
      "[2.98198231e-18 2.54742877e+00 1.83000135e+00 6.00000000e+00]\n"
     ]
    }
   ]
  },
  {
   "cell_type": "code",
   "execution_count": 28,
   "outputs": [
    {
     "name": "stdout",
     "output_type": "stream",
     "text": [
      "Sem Biomassa\n",
      "[[  0.88333333   0.           0.           0.        ]\n",
      " [-13.401        0.           0.           0.        ]\n",
      " [  4.59906667   0.           0.           0.        ]\n",
      " [  0.           0.           0.           0.        ]]\n",
      "0.8833333333333333\n",
      "0.0\n",
      "Existe Biomassa\n",
      "[[ 9.91565768e-01  7.11090186e-20  5.49278649e-20  0.00000000e+00]\n",
      " [-1.49105636e+01 -1.27057594e-18  0.00000000e+00  0.00000000e+00]\n",
      " [ 5.06142392e+00  5.16725535e-19 -3.50549634e-19  0.00000000e+00]\n",
      " [ 0.00000000e+00  0.00000000e+00  0.00000000e+00  0.00000000e+00]]\n",
      "0.9915657677484429\n",
      "0.0\n"
     ]
    }
   ],
   "source": [
    "jacob = ndt.Jacobian(cs_bl21_model)\n",
    "print(\"Sem Biomassa\")\n",
    "print(jacob(a))\n",
    "print(np.trace(jacob(a)))\n",
    "print(np.linalg.det(jacob(a)))\n",
    "\n",
    "print(\"Existe Biomassa\")\n",
    "print(jacob(b))\n",
    "print(np.trace(jacob(b)))\n",
    "print(np.linalg.det(jacob(b)))\n"
   ],
   "metadata": {
    "collapsed": false,
    "pycharm": {
     "name": "#%%\n"
    }
   }
  }
 ]
}